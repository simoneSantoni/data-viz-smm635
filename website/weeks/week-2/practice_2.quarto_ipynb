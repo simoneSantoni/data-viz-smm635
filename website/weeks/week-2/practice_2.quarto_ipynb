{
  "cells": [
    {
      "cell_type": "markdown",
      "metadata": {},
      "source": [
        "---\n",
        "title: \"Google Play Store Apps: Data Exploration with Python's plotnine\"\n",
        "format: html\n",
        "jupyter: python3\n",
        "execute:\n",
        "  warning: false\n",
        "  message: false\n",
        "---\n",
        "\n",
        "## Python's plotnine\n",
        "\n",
        "**plotnine** is Python's implementation of R's ggplot2, providing Grammar of\n",
        "Graphics-based visualization capabilities. It offers familiar syntax for R\n",
        "users while enabling declarative plot construction through layered components.\n",
        "The library translates ggplot2's elegant API to Python, supporting aesthetic\n",
        "mappings, geometric objects (geoms), statistical transformations, scales,\n",
        "coordinate systems, and themes. This approach promotes reproducible,\n",
        "customizable visualizations with intuitive code structure, making plotnine\n",
        "ideal for data scientists transitioning between R and Python or seeking\n",
        "ggplot2's expressiveness in Python workflows.\n",
        "\n",
        "## Setup"
      ],
      "id": "a646d3ba"
    },
    {
      "cell_type": "code",
      "metadata": {},
      "source": [
        "import pandas as pd\n",
        "from plotnine import *\n",
        "import warnings\n",
        "warnings.filterwarnings('ignore')\n",
        "\n",
        "# Load data\n",
        "data_source = \"https://raw.githubusercontent.com/simoneSantoni/data-viz-smm635/refs/heads/master/data/googleplaystore.csv\"\n",
        "apps = pd.read_csv(data_source)\n",
        "\n",
        "# Convert numeric columns\n",
        "apps['Reviews'] = pd.to_numeric(apps['Reviews'], errors='coerce')\n",
        "apps['Rating'] = pd.to_numeric(apps['Rating'], errors='coerce')"
      ],
      "id": "a83edb5e",
      "execution_count": null,
      "outputs": []
    },
    {
      "cell_type": "markdown",
      "metadata": {},
      "source": [
        "::: {.callout-note}\n",
        "This dataset from [Kaggle's Google Play Store Apps project](https://www.kaggle.com/datasets/lava18/google-play-store-apps) contains information on ~10K Android apps including ratings, reviews, pricing, and categories.\n",
        ":::\n",
        "\n",
        "## Data Overview"
      ],
      "id": "0d477e68"
    },
    {
      "cell_type": "code",
      "metadata": {},
      "source": [
        "apps.dtypes  # Column types\n",
        "apps         # Data preview"
      ],
      "id": "3760599b",
      "execution_count": null,
      "outputs": []
    },
    {
      "cell_type": "markdown",
      "metadata": {},
      "source": [
        "### Key Variables\n",
        "\n",
        "| Variable | Type | Description | Notes |\n",
        "|----------|------|-------------|-------|\n",
        "| **App** | String | Application name | May contain special characters |\n",
        "| **Category** | Categorical | Primary app category (33 categories) | Contains some miscoded entries |\n",
        "| **Rating** | Float | Average user rating (1.0-5.0) | Missing for unrated apps |\n",
        "| **Reviews** | Integer | Total number of user reviews | Indicator of popularity |\n",
        "| **Size** | String | App size with units (e.g., \"19M\") | Requires parsing; \"Varies with device\" for some |\n",
        "| **Installs** | Categorical | Install count ranges (e.g., \"10,000+\") | Ordinal categories, not exact counts |\n",
        "| **Type** | Binary | \"Free\" or \"Paid\" | Contains data quality issues |\n",
        "| **Price** | String | Price in USD (e.g., \"$2.99\") | \"0\" for free apps |\n",
        "| **Content Rating** | Categorical | Age appropriateness | \"Everyone\", \"Teen\", \"Mature 17+\", etc. |\n",
        "| **Genres** | String | Detailed genre (may be multiple) | Semicolon-separated |\n",
        "| **Last Updated** | Date | Last update date | Format: \"Month Day, Year\" |\n",
        "| **Current Ver** | String | App version | Non-standardized format |\n",
        "| **Android Ver** | String | Minimum Android version required | Format: \"X.X.X and up\" |      \n",
        "\n",
        "## Data Visualization\n",
        "\n",
        "### Univariate Distributions\n",
        "\n",
        "#### Categorical Variables\n",
        "\n",
        "**Bar charts** are the standard approach for visualizing categorical distributions. @fig-bar-chart reveals data quality issues: some apps have $Type = 0$ and missing values ($NaN$).\n",
        "\n",
        "::: {.panel-tabset}\n",
        "\n",
        "## Bar Chart"
      ],
      "id": "70bb6c3c"
    },
    {
      "cell_type": "code",
      "metadata": {},
      "source": [
        "#| fig-cap: App distribution by pricing type\n",
        "#| label: fig-bar-chart\n",
        "\n",
        "(ggplot(apps, aes(x='Type')) +\n",
        "  geom_bar())"
      ],
      "id": "fig-bar-chart",
      "execution_count": null,
      "outputs": []
    },
    {
      "cell_type": "markdown",
      "metadata": {},
      "source": [
        "## Proportional Bar Chart"
      ],
      "id": "a76ea008"
    },
    {
      "cell_type": "code",
      "metadata": {},
      "source": [
        "#| fig-cap: Proportional representation (coord_polar not available in plotnine)\n",
        "#| label: fig-prop-bar\n",
        "\n",
        "(apps\n",
        "  .assign(category='All Apps')\n",
        "  .pipe(lambda d: ggplot(d, aes(x='category', fill='Type')) +\n",
        "    geom_bar(position='fill') +\n",
        "    coord_flip() +\n",
        "    labs(x='', y='Proportion') +\n",
        "    theme_minimal()))"
      ],
      "id": "fig-prop-bar",
      "execution_count": null,
      "outputs": []
    },
    {
      "cell_type": "markdown",
      "metadata": {},
      "source": [
        "## Data Quality Check"
      ],
      "id": "710c07ab"
    },
    {
      "cell_type": "code",
      "metadata": {},
      "source": [
        "#| fig-cap: Miscoded Type values (neither Free nor Paid)\n",
        "#| label: fig-type-issues\n",
        "\n",
        "(apps\n",
        "  .query('Type != \"Free\" & Type != \"Paid\"')\n",
        "  .pipe(lambda d: ggplot(d, aes(x='Type')) + geom_bar()))"
      ],
      "id": "fig-type-issues",
      "execution_count": null,
      "outputs": []
    },
    {
      "cell_type": "markdown",
      "metadata": {},
      "source": [
        ":::\n",
        "\n",
        "#### Continuous Variables\n",
        "\n",
        "The **Reviews** variable exhibits strong right skew. Multiple visualization approaches reveal different aspects of the distribution. Note: `geom_histogram()` defaults to 30 bins; adjust with `bins` argument.\n",
        "\n",
        "::: {.panel-tabset}\n",
        "\n",
        "## Histogram"
      ],
      "id": "e61ad034"
    },
    {
      "cell_type": "code",
      "metadata": {},
      "source": [
        "#| fig-cap: Review count distribution (raw scale)\n",
        "#| label: fig-reviews-hist\n",
        "\n",
        "(ggplot(apps, aes(x='Reviews')) +\n",
        "  geom_histogram())"
      ],
      "id": "fig-reviews-hist",
      "execution_count": null,
      "outputs": []
    },
    {
      "cell_type": "markdown",
      "metadata": {},
      "source": [
        "## Histogram (Log Scale)"
      ],
      "id": "17d37cb4"
    },
    {
      "cell_type": "code",
      "metadata": {},
      "source": [
        "#| fig-cap: Review count distribution (log₁₀ scale)\n",
        "#| label: fig-reviews-hist-log\n",
        "\n",
        "(apps\n",
        "  .query('Reviews > 0')\n",
        "  .pipe(lambda d: ggplot(d, aes(x='Reviews')) +\n",
        "    geom_histogram() +\n",
        "    scale_x_log10()))"
      ],
      "id": "fig-reviews-hist-log",
      "execution_count": null,
      "outputs": []
    },
    {
      "cell_type": "markdown",
      "metadata": {},
      "source": [
        "## Boxplot (Horizontal)"
      ],
      "id": "f3ad464f"
    },
    {
      "cell_type": "code",
      "metadata": {},
      "source": [
        "#| fig-cap: Review summary statistics (log₁₀ scale)\n",
        "#| label: fig-boxplot\n",
        "\n",
        "(apps\n",
        "  .query('Reviews > 0')\n",
        "  .assign(category='Reviews')\n",
        "  .pipe(lambda d: ggplot(d, aes(x='category', y='Reviews')) +\n",
        "    geom_boxplot() +\n",
        "    scale_y_log10() +\n",
        "    coord_flip() +\n",
        "    labs(x='') +\n",
        "    theme_minimal()))"
      ],
      "id": "fig-boxplot",
      "execution_count": null,
      "outputs": []
    },
    {
      "cell_type": "markdown",
      "metadata": {},
      "source": [
        "## Boxplot (Vertical)"
      ],
      "id": "6ee078bd"
    },
    {
      "cell_type": "code",
      "metadata": {},
      "source": [
        "#| fig-cap: Vertical boxplot using y aesthetic\n",
        "#| label: fig-boxplot-vertical\n",
        "\n",
        "(apps\n",
        "  .query('Reviews > 0')\n",
        "  .assign(category='Reviews')\n",
        "  .pipe(lambda d: ggplot(d, aes(x='category', y='Reviews')) +\n",
        "    geom_boxplot() +\n",
        "    scale_y_log10() +\n",
        "    labs(x='') +\n",
        "    theme_minimal()))"
      ],
      "id": "fig-boxplot-vertical",
      "execution_count": null,
      "outputs": []
    },
    {
      "cell_type": "markdown",
      "metadata": {},
      "source": [
        "## Density Plot"
      ],
      "id": "6d1c5da6"
    },
    {
      "cell_type": "code",
      "metadata": {},
      "source": [
        "#| fig-cap: Smoothed density estimate (log₁₀ scale)\n",
        "#| label: fig-density\n",
        "\n",
        "(apps\n",
        "  .query('Reviews > 0')\n",
        "  .pipe(lambda d: ggplot(d, aes(x='Reviews')) +\n",
        "    geom_density() +\n",
        "    scale_x_log10()))"
      ],
      "id": "fig-density",
      "execution_count": null,
      "outputs": []
    },
    {
      "cell_type": "markdown",
      "metadata": {},
      "source": [
        ":::\n",
        "\n",
        "### Bivariate Relationships\n",
        "\n",
        "#### Categorical vs Continuous\n",
        "\n",
        "**Grouped visualizations** reveal how continuous variables differ across categories. @fig-rating-by-type compares rating distributions between free and paid apps.\n",
        "\n",
        "::: {.panel-tabset}\n",
        "\n",
        "## Grouped Boxplots"
      ],
      "id": "912c05bb"
    },
    {
      "cell_type": "code",
      "metadata": {},
      "source": [
        "#| fig-cap: Rating distribution by app type\n",
        "#| label: fig-rating-by-type\n",
        "\n",
        "(apps\n",
        "  .query('Type in [\"Free\", \"Paid\"]')\n",
        "  .pipe(lambda d: ggplot(d, aes(x='Type', y='Rating', fill='Type')) +\n",
        "    geom_boxplot() +\n",
        "    theme_minimal()))"
      ],
      "id": "fig-rating-by-type",
      "execution_count": null,
      "outputs": []
    },
    {
      "cell_type": "markdown",
      "metadata": {},
      "source": [
        "## Violin Plots"
      ],
      "id": "085fe9a1"
    },
    {
      "cell_type": "code",
      "metadata": {},
      "source": [
        "#| fig-cap: Rating density by app type\n",
        "#| label: fig-rating-violin\n",
        "\n",
        "(apps\n",
        "  .query('Type in [\"Free\", \"Paid\"]')\n",
        "  .pipe(lambda d: ggplot(d, aes(x='Type', y='Rating', fill='Type')) +\n",
        "    geom_violin() +\n",
        "    theme_minimal()))"
      ],
      "id": "fig-rating-violin",
      "execution_count": null,
      "outputs": []
    },
    {
      "cell_type": "markdown",
      "metadata": {},
      "source": [
        "## Grouped Histograms"
      ],
      "id": "1f5cb7ee"
    },
    {
      "cell_type": "code",
      "metadata": {},
      "source": [
        "#| fig-cap: Rating distribution faceted by type\n",
        "#| label: fig-rating-facet\n",
        "\n",
        "(apps\n",
        "  .query('Type in [\"Free\", \"Paid\"]')\n",
        "  .pipe(lambda d: ggplot(d, aes(x='Rating', fill='Type')) +\n",
        "    geom_histogram(bins=30) +\n",
        "    facet_wrap('~Type', ncol=1) +\n",
        "    theme_minimal()))"
      ],
      "id": "fig-rating-facet",
      "execution_count": null,
      "outputs": []
    },
    {
      "cell_type": "markdown",
      "metadata": {},
      "source": [
        ":::\n",
        "\n",
        "#### Continuous vs Continuous\n",
        "\n",
        "**Scatterplots** visualize relationships between two continuous variables. @fig-reviews-rating explores whether highly-reviewed apps have better ratings.\n",
        "\n",
        "::: {.panel-tabset}\n",
        "\n",
        "## Basic Scatterplot"
      ],
      "id": "0ca8f44c"
    },
    {
      "cell_type": "code",
      "metadata": {},
      "source": [
        "#| fig-cap: Relationship between reviews and ratings\n",
        "#| label: fig-reviews-rating\n",
        "\n",
        "(apps\n",
        "  .dropna(subset=['Rating'])\n",
        "  .query('Reviews > 0')\n",
        "  .pipe(lambda d: ggplot(d, aes(x='Reviews', y='Rating')) +\n",
        "    geom_point(alpha=0.3) +\n",
        "    scale_x_log10() +\n",
        "    theme_minimal()))"
      ],
      "id": "fig-reviews-rating",
      "execution_count": null,
      "outputs": []
    },
    {
      "cell_type": "markdown",
      "metadata": {},
      "source": [
        "## With Smoothing"
      ],
      "id": "2584ca1b"
    },
    {
      "cell_type": "code",
      "metadata": {},
      "source": [
        "#| fig-cap: Reviews vs ratings with linear smoother (loess requires scikit-misc)\n",
        "#| label: fig-reviews-rating-smooth\n",
        "\n",
        "(apps\n",
        "  .dropna(subset=['Rating'])\n",
        "  .query('Reviews > 0')\n",
        "  .pipe(lambda d: ggplot(d, aes(x='Reviews', y='Rating')) +\n",
        "    geom_point(alpha=0.2) +\n",
        "    geom_smooth(method='lm', color='red') +\n",
        "    scale_x_log10() +\n",
        "    theme_minimal()))"
      ],
      "id": "fig-reviews-rating-smooth",
      "execution_count": null,
      "outputs": []
    },
    {
      "cell_type": "markdown",
      "metadata": {},
      "source": [
        "## Colored by Type"
      ],
      "id": "3e03f741"
    },
    {
      "cell_type": "code",
      "metadata": {},
      "source": [
        "#| fig-cap: Reviews vs ratings, colored by app type\n",
        "#| label: fig-reviews-rating-type\n",
        "\n",
        "(apps\n",
        "  .dropna(subset=['Rating'])\n",
        "  .query('Type in [\"Free\", \"Paid\"] and Reviews > 0')\n",
        "  .pipe(lambda d: ggplot(d, aes(x='Reviews', y='Rating', color='Type')) +\n",
        "    geom_point(alpha=0.4) +\n",
        "    scale_x_log10() +\n",
        "    theme_minimal()))"
      ],
      "id": "fig-reviews-rating-type",
      "execution_count": null,
      "outputs": []
    },
    {
      "cell_type": "markdown",
      "metadata": {},
      "source": [
        ":::\n",
        "\n",
        "#### Categorical vs Categorical\n",
        "\n",
        "**Stacked and grouped bar charts** show relationships between categorical variables. @fig-type-by-content examines how app pricing varies across content ratings.\n",
        "\n",
        "::: {.panel-tabset}\n",
        "\n",
        "## Stacked Bar Chart"
      ],
      "id": "60db2341"
    },
    {
      "cell_type": "code",
      "metadata": {},
      "source": [
        "#| fig-cap: App type distribution by content rating\n",
        "#| label: fig-type-by-content\n",
        "\n",
        "(apps\n",
        "  .query('Type in [\"Free\", \"Paid\"]')\n",
        "  .pipe(lambda d: ggplot(d, aes(x='Content Rating', fill='Type')) +\n",
        "    geom_bar() +\n",
        "    theme_minimal() +\n",
        "    theme(axis_text_x=element_text(angle=45, hjust=1))))"
      ],
      "id": "fig-type-by-content",
      "execution_count": null,
      "outputs": []
    },
    {
      "cell_type": "markdown",
      "metadata": {},
      "source": [
        "## Grouped Bar Chart"
      ],
      "id": "36932de0"
    },
    {
      "cell_type": "code",
      "metadata": {},
      "source": [
        "#| fig-cap: Side-by-side comparison of app types\n",
        "#| label: fig-type-by-content-dodge\n",
        "\n",
        "(apps\n",
        "  .query('Type in [\"Free\", \"Paid\"]')\n",
        "  .pipe(lambda d: ggplot(d, aes(x='Content Rating', fill='Type')) +\n",
        "    geom_bar(position='dodge') +\n",
        "    theme_minimal() +\n",
        "    theme(axis_text_x=element_text(angle=45, hjust=1))))"
      ],
      "id": "fig-type-by-content-dodge",
      "execution_count": null,
      "outputs": []
    },
    {
      "cell_type": "markdown",
      "metadata": {},
      "source": [
        "## Heatmap"
      ],
      "id": "2af4a822"
    },
    {
      "cell_type": "code",
      "metadata": {},
      "source": [
        "#| fig-cap: Count heatmap of app type by content rating\n",
        "#| label: fig-type-by-content-heatmap\n",
        "\n",
        "(apps\n",
        "  .query('Type in [\"Free\", \"Paid\"]')\n",
        "  .groupby(['Type', 'Content Rating'], as_index=False)\n",
        "  .size()\n",
        "  .rename(columns={'size': 'n'})\n",
        "  .pipe(lambda d: ggplot(d, aes(x='Content Rating', y='Type', fill='n')) +\n",
        "    geom_tile() +\n",
        "    geom_text(aes(label='n'), color='white', size=4) +\n",
        "    scale_fill_gradient(low='lightblue', high='darkblue') +\n",
        "    labs(fill='Count') +\n",
        "    theme_minimal() +\n",
        "    theme(axis_text_x=element_text(angle=45, hjust=1))))"
      ],
      "id": "fig-type-by-content-heatmap",
      "execution_count": null,
      "outputs": []
    },
    {
      "cell_type": "markdown",
      "metadata": {},
      "source": [
        ":::\n",
        "\n",
        "## Next Steps\n",
        "\n",
        "::: {.callout-tip}\n",
        "\n",
        "- **Data Cleaning**: Address missing values and miscoded entries in Type, Category, and other fields\n",
        "- **Feature Engineering**: Parse Size and Installs into numeric formats for quantitative analysis\n",
        "- **Advanced Analysis**: Examine temporal patterns using Last Updated, analyze price elasticity, investigate category-specific trends\n",
        "- **Multivariate Analysis**: Build models to predict ratings or success metrics based on app characteristics\n",
        "\n",
        ":::"
      ],
      "id": "20e6e648"
    }
  ],
  "metadata": {
    "kernelspec": {
      "name": "python3",
      "language": "python",
      "display_name": "Python 3 (ipykernel)",
      "path": "/home/simone/.local/share/jupyter/kernels/python3"
    }
  },
  "nbformat": 4,
  "nbformat_minor": 5
}