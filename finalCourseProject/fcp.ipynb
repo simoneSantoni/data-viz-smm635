{
  "cells": [
    {
      "cell_type": "markdown",
      "metadata": {},
      "source": [
        "# SMM635 Final Course Project\n",
        "\n",
        "Simone Santoni  \n",
        "2024-11-29\n",
        "\n",
        "This notebook illustrates two alternative final course projects for the\n",
        "SMM635 course.\n",
        "\n",
        "# Overview of the Projects\n",
        "\n",
        "Students are required to choose one of the two projects in\n",
        "<a href=\"#tbl-overview\" class=\"quarto-xref\">Table 1</a>.\n",
        "<a href=\"#sec-project-1\" class=\"quarto-xref\">Section 2</a> and\n",
        "<a href=\"#sec-project-2\" class=\"quarto-xref\">Section 3</a>, describe the\n",
        "individual projects’ context, data, and problems. Finally,\n",
        "<a href=\"#sec-template\" class=\"quarto-xref\">Section 4</a> describes the\n",
        "materials that students are expected to submit, irrespective of the\n",
        "chosen project.\n",
        "\n",
        "| Project | Title                        | Data domains             |\n",
        "|:-------:|:-----------------------------|:-------------------------|\n",
        "|    1    | Equal employment opportunity | Geospatial & time-series |\n",
        "|    2    | Platform economy             | Time series              |\n",
        "\n",
        "Table 1: Overview and key features of the two projects\n",
        "\n",
        "# Project 1: Equal Employment Opportunity\n",
        "\n",
        "## Contextual information\n",
        "\n",
        "This project’s dataset contains a list of Industrial and Commercial\n",
        "Abatement Program (ICAP)[1] businesses that have successfully complied\n",
        "with Equal Employment Opportunity (EO50) requirements and have received\n",
        "EO50 certificate of approval from the NYC Department of Small Business\n",
        "Services (SBS). Executive Order No. 50 was established in 1980 during\n",
        "Mayor Koch’s tenure. It mandates that all contractors adhere to equal\n",
        "employment principles, explicitly prohibiting discriminatory hiring\n",
        "practices. This order safeguards individuals from discrimination based\n",
        "on ten protected categories: race, sex, creed, age, color, disability,\n",
        "national origin, marital status, sexual orientation, and citizenship\n",
        "status.\n",
        "\n",
        "## Data description\n",
        "\n",
        "The dataset is stored in a CSV file named `e050.csv` and contains 992\n",
        "cases―i.e., businesses that have received the EO50 certificate―and 16\n",
        "variables, including the timestamp of the EO50 approval date and\n",
        "location data. Below is a sample record from the dataset.\n",
        "\n",
        "[1] The Industrial and Commercial Abatement Program (ICAP) is a tax\n",
        "incentive program in New York City designed to encourage businesses to\n",
        "make capital investments in industrial and commercial properties. Under\n",
        "ICAP, eligible businesses that renovate, construct, or expand commercial\n",
        "and industrial buildings can receive partial property tax exemptions for\n",
        "a specified period. This program aims to stimulate economic development,\n",
        "create jobs, and modernize the city’s infrastructure."
      ],
      "id": "36140119-854e-4755-b520-c74b387e513c"
    },
    {
      "cell_type": "code",
      "execution_count": 1,
      "metadata": {},
      "outputs": [
        {
          "output_type": "display_data",
          "metadata": {},
          "data": {
            "text/html": [
              "\n",
              "</div>"
            ]
          }
        }
      ],
      "source": [
        "import os\n",
        "import pandas as pd\n",
        "df1 = pd.read_csv(\"data/e050.csv\")\n",
        "df1.head(1).T"
      ],
      "id": "fc3e47eb"
    },
    {
      "cell_type": "markdown",
      "metadata": {},
      "source": [
        "The following bullet point list describes the individual variables:\n",
        "\n",
        "-   **EO50 Approval Date**: the date when the Business received EO50\n",
        "    certificate of approval from SBS (timestamp)\n",
        "-   **Business Name**: Business name of vendor recruiting Minority\n",
        "    and/or Women-Owned Business Enterprise subcontractors (Text)\n",
        "-   **Business Address**: Address(es) of project site (text)\n",
        "-   **Business City**: City of project site\n",
        "-   **Business State**: State\n",
        "-   **Business Phone**: Phone number of primary contact of vendor\n",
        "    recruiting Minority and/or Women-Owned Business Enterprise\n",
        "    subcontractors\n",
        "-   **Postcode**: Zip code of site address(es)\n",
        "-   **Borough**: Borough in which the site is located\\>\n",
        "-   **Community Board**: Community Board number\n",
        "-   **Latitude**: Latitude of the site’s location\n",
        "-   **Longitude**: Longitude of the site’s location\n",
        "-   **Council District**: The Council District field indicates the New\n",
        "    York City Council District where the site is located\n",
        "-   **BIN**: The BIN (site Identification Number) is a unique identifier\n",
        "    for each site in the City\n",
        "-   **BBL**: The BBL (Borough, Block, and Lot) is a unique identifier\n",
        "    for each tax lot in the City\n",
        "-   **Census Tract (2020)**: The Census Tract (Census 2020) field\n",
        "    indicates the U.S. Census Tract where the site is located. Please\n",
        "    note that as part of the geocoding process, leading and trailing\n",
        "    zeros are dropped\n",
        "-   **Neighborhood Tabulation Area (NTA) (2020)**: The Neighborhood\n",
        "    Tabulation Area (Census 2020) field indicates the New York City\n",
        "    Neighborhood area where the site is located\n",
        "\n",
        "<a href=\"#fig-certification\" class=\"quarto-xref\">Figure 1</a> shows the\n",
        "distribution of EO50 certificates over time."
      ],
      "id": "08eedb29-a166-4c86-977e-7515cabba7fa"
    },
    {
      "cell_type": "code",
      "execution_count": 2,
      "metadata": {},
      "outputs": [
        {
          "output_type": "display_data",
          "metadata": {},
          "data": {}
        }
      ],
      "source": [
        "import matplotlib.pyplot as plt\n",
        "import seaborn as sns\n",
        "\n",
        "df1.loc[:, \"date\"] = pd.to_datetime(df1[\"EO50 Approval Date\"])\n",
        "df1[\"month_year\"] = df1[\"date\"].dt.to_period(\"M\")\n",
        "gr = df1.groupby(\"month_year\")\n",
        "ds = pd.DataFrame(gr.size().reset_index(name=\"counts\"))\n",
        "fig = plt.figure(figsize=(8, 4))\n",
        "ax = fig.add_subplot(111)\n",
        "ax.plot(ds.index, ds[\"counts\"], color=\"blue\")\n",
        "xticklabels = []\n",
        "for _ in ds[\"month_year\"].astype(str):\n",
        "    if \"-06\" in _:\n",
        "        xticklabels.append(_)\n",
        "    else:\n",
        "        xticklabels.append(\"\")\n",
        "ax.set_xticks(ds.index)\n",
        "ax.set_xticklabels(xticklabels, rotation=45, horizontalalignment=\"right\")\n",
        "ax.set_ylabel(\"Counts of EO50 certificates\")\n",
        "ax.grid(True, which=\"major\", axis=\"y\", linestyle=\"--\", linewidth=0.5)\n",
        "plt.show()"
      ],
      "id": "cell-fig-certification"
    },
    {
      "cell_type": "markdown",
      "metadata": {},
      "source": [
        "## Data visualization problem\n",
        "\n",
        "Create two (2) plots showing the diffusion of EO50 certificates across\n",
        "NYC areas and over time. You may want to consider a few demographic or\n",
        "socio-economic indicators (e.g., borough-level indicators) to provide a\n",
        "more nuanced interpretation of the EO50 diffusion pattern. [NYC\n",
        "OpenData](https://opendata.cityofnewyork.us/) provides a wealth of\n",
        "datasets that you can use to efficiently and effectively enrich the\n",
        "analysis. Then, discuss the main business/policy insight(s) that can be\n",
        "drawn from the plots you created.\n",
        "\n",
        "# Project 2: Platform Economy\n",
        "\n",
        "## Contextual information\n",
        "\n",
        "The platform economy has transformed the way people work, consume, and\n",
        "interact with each other. Platforms like Uber, Lyft, Airbnb, and\n",
        "TaskRabbit have disrupted traditional industries and created new\n",
        "opportunities for workers and consumers. However, platform businesses\n",
        "may affect non-related markets in unexpected ways. This project\n",
        "emphasizes a regulatory change that affected the ride-sharing industry\n",
        "in Austin, Texas, and its impact on the local restaurant industry, and,\n",
        "possibly, local restaurants.\n",
        "\n",
        "In 2016 and 2017, Uber and Lyft temporarily ceased operations in Austin,\n",
        "Texas, due to a dispute over local regulations governing ride-sharing\n",
        "services. In December 2015, Austin City Council passed an ordinance\n",
        "requiring ride-sharing companies like Uber and Lyft to:\n",
        "\n",
        "-   Conduct fingerprint-based background checks on their drivers\n",
        "    (similar to those required for taxi drivers)\n",
        "-   Restrict pick-up and drop-off locations in certain areas\n",
        "-   Collect data and adhere to other safety and operational standards\n",
        "\n",
        "Uber and Lyft objected to the fingerprint requirement, arguing that\n",
        "their own background checks were sufficient and that fingerprinting was\n",
        "unnecessarily burdensome, potentially deterring drivers from signing up.\n",
        "\n",
        "In response to the ordinance, Uber and Lyft, along with their\n",
        "supporters, gathered enough signatures to trigger a public referendum\n",
        "(Proposition 1) in May 2016, hoping to overturn the city’s regulations.\n",
        "Outcome: Proposition 1 was defeated, with approximately 56% of Austin\n",
        "voters choosing to uphold the city’s regulations. Impact: Following the\n",
        "vote, both Uber and Lyft announced that they would suspend operations in\n",
        "Austin, effective May 9, 2016.\n",
        "\n",
        "However, many residents expressed frustration with the lack of options\n",
        "and higher prices compared to the services provided by Uber and Lyft.\n",
        "The absence of the two giants also created logistical challenges for\n",
        "large-scale events like SXSW and the Austin City Limits music festival.\n",
        "\n",
        "In May 2017, the Texas Legislature passed House Bill 100, a statewide\n",
        "law that overrode local ride-sharing regulations and established uniform\n",
        "rules across Texas. Notably, the new law removed the requirement for\n",
        "fingerprint-based background check and gave regulatory authority over\n",
        "ride-sharing companies to the state rather than individual cities. With\n",
        "this new statewide framework, Uber and Lyft resumed operations in Austin\n",
        "soon after the bill was signed into law.\n",
        "\n",
        "## Data description\n",
        "\n",
        "This project comprises two data-tables, `platform_economy_reviews.csv`\n",
        "and `platform_economy_restaurants.csv`. The former contains restaurant\n",
        "review tone, while the latter contains restaurant workers’ career\n",
        "spells.\n",
        "\n",
        "### Reviews\n",
        "\n",
        "The data-table `platform_economy_reviews.csv` contains 58,227 reviews\n",
        "regarding a sample of 1,107 restaurants in Texas. Below is the codebook\n",
        "for the dataset:\n",
        "\n",
        "-   **id** : Restaurant numeric identifier\n",
        "-   **yelp_tier** : The tier of the restaurant according to Yelp (in\n",
        "    “\\$”)\n",
        "-   **time**: Review timestamp in “YYYY-MM” format\n",
        "-   **bad_service**: Percentage of month $t$ Yelp reviews that were\n",
        "    negative about the service This measure was achieved by training an\n",
        "    aspect-based (i.e., service-based) sentiment classifier on the\n",
        "    corpus 58,227 reviews\n",
        "-   **bad_food**: Percentage of month $t$ Yelp reviews that were\n",
        "    negative about the food. This measure was achieved by training an\n",
        "    aspect-based (i.e., food-based) sentiment classifier on the corpus\n",
        "    58,227 reviews\n",
        "-   **location**: Restaurant location (either Austin or Dallas)"
      ],
      "id": "d4116ae2-a508-4e8f-bc85-b9a308133649"
    },
    {
      "cell_type": "code",
      "execution_count": 3,
      "metadata": {},
      "outputs": [
        {
          "output_type": "display_data",
          "metadata": {},
          "data": {
            "text/html": [
              "\n",
              "</div>"
            ]
          }
        }
      ],
      "source": [
        "df2 = pd.read_csv(\"data/platform_economy_reviews.csv\")\n",
        "df2.head()"
      ],
      "id": "30c027ce"
    },
    {
      "cell_type": "markdown",
      "metadata": {},
      "source": [
        "<a href=\"#fig-reviews-over-time\" class=\"quarto-xref\">Figure 2</a> shows\n",
        "the distribution of Yelp reviews regarding restaurants in Austin (which\n",
        "was affected by the Uber and Lyft exit) and Dallas (which was not\n",
        "affected). These data offer ready-to-analyze information regarding the\n",
        "quality of service and food in the restaurants over time."
      ],
      "id": "af1c2267-8427-49ba-be43-91f9101892e5"
    },
    {
      "cell_type": "code",
      "execution_count": 4,
      "metadata": {},
      "outputs": [
        {
          "output_type": "display_data",
          "metadata": {},
          "data": {}
        }
      ],
      "source": [
        "gr = df2.groupby([\"time\", \"location\"])\n",
        "ds = pd.DataFrame(gr.size().reset_index(name=\"counts\"))\n",
        "fig = plt.figure(figsize=(8, 4))\n",
        "ax = fig.add_subplot(111)\n",
        "for _, color in zip([\"austin\", \"dallas\"], [\"red\", \"blue\"]):\n",
        "    tmp = ds.loc[ds[\"location\"] == _, :]\n",
        "    ax.plot(\n",
        "        tmp.time,\n",
        "        tmp.counts,\n",
        "        color=color,\n",
        "        label=_.title(),\n",
        "    )\n",
        "xticklabels = []\n",
        "for _ in ax.get_xticklabels():\n",
        "    if \"-05\" in _.get_text():\n",
        "        xticklabels.append(_.get_text())\n",
        "    else:\n",
        "        xticklabels.append(\"\")\n",
        "ax.set_ylabel(\"Counts of Yelp reviews\")\n",
        "ax.set_xticklabels(xticklabels, rotation=90, horizontalalignment=\"center\")\n",
        "ax.legend(loc=\"best\")\n",
        "ax.vlines(x=\"2016-05\", ymin=0, ymax=ds[\"counts\"].max(), color=\"purple\", linestyle=\"--\")\n",
        "ax.text(x=\"2016-02\", y=0, s=\"Uber & Lyft\\nexit Austin\", rotation=90, color=\"purple\")\n",
        "ax.vlines(x=\"2017-05\", ymin=0, ymax=ds[\"counts\"].max(), color=\"green\", linestyle=\"--\")\n",
        "ax.text(\n",
        "    x=\"2017-02\", y=0, s=\"Uber & Lyft\\nre-entry Austin\", rotation=90, color=\"green\"\n",
        ")\n",
        "ax.grid(True, which=\"major\", axis=\"y\", linestyle=\"--\", linewidth=0.5)\n",
        "plt.show()"
      ],
      "id": "cell-fig-reviews-over-time"
    },
    {
      "cell_type": "markdown",
      "metadata": {},
      "source": [
        "### Labor mobility\n",
        "\n",
        "A second, related dataset, `platform_economy_mobility.csv`, contains the\n",
        "career spells of 193 restaurant workers. Below is the codebook for the\n",
        "dataset:\n",
        "\n",
        "-   **employee**: Employee numeric identifier\n",
        "-   **time**: Even timestamp in `%YYYY%MM` format\n",
        "-   **tenure**: Worker tenure in the restaurant in months\n",
        "-   **quit**: Logical value whether the employee quit his or her job at\n",
        "    the restaurant after the last month indicated by the `time`\n",
        "-   **role**: Worker role in the restaurant\n",
        "-   **avg_hourly_wage**: Worker average hourly wage in that calendar\n",
        "    month\n",
        "-   **dma**: Market area of restaurants\n",
        "-   **restaurant**: Restaurant unique identifier (linked against the\n",
        "    previous data-table)\n",
        "-   **restaurant_category**: Restaurant category, e.g., “Quick Service,”\n",
        "    “Fast Casual,” “Casual Dining,” “Upscale Casual,” and “Fine Dining”"
      ],
      "id": "10a7b720-c46c-4473-b5a5-f7959ff974cc"
    },
    {
      "cell_type": "code",
      "execution_count": 5,
      "metadata": {},
      "outputs": [
        {
          "output_type": "display_data",
          "metadata": {},
          "data": {
            "text/html": [
              "\n",
              "</div>"
            ]
          }
        }
      ],
      "source": [
        "df2 = pd.read_csv(\"data/platform_economy_mobility.csv\")\n",
        "df2.head()"
      ],
      "id": "715ad9c0"
    },
    {
      "cell_type": "markdown",
      "metadata": {},
      "source": [
        "## Data visualization problem\n",
        "\n",
        "Create two (2) plots addressing the following questions: “Does the exit\n",
        "of Uber and Lyft from Austin, Texas, affect the quality of service and\n",
        "food in local restaurants?” And “through which mechanism(s)?”\n",
        "\n",
        "# Submission package\n",
        "\n",
        "The submission package consists of:\n",
        "\n",
        "-   An executive summary containing the two plots and a 600 word,\n",
        "    companion text addressing the above-described business problems\n",
        "-   The computer code that allows me to fully reproduce your charts\n",
        "    (being, R, Python, Julia, Rust, Stata, C++, Java, etc.). The code\n",
        "    should be well-commented and easy to read. Non-reproducible charts\n",
        "    will not be graded."
      ],
      "id": "9dab17b3-bfff-48d7-ac69-7f4bbf26045a"
    }
  ],
  "nbformat": 4,
  "nbformat_minor": 5,
  "metadata": {
    "kernelspec": {
      "name": "python3",
      "display_name": "Python 3 (ipykernel)",
      "language": "python",
      "path": "/home/simone/.local/share/jupyter/kernels/python3"
    }
  }
}