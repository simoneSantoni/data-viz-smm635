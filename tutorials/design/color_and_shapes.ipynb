{
 "cells": [
  {
   "cell_type": "markdown",
   "metadata": {},
   "source": [
    "# Choosing colors and shapes in ggplot2\n",
    "\n",
    "Simone Santoni  \n",
    "2024-10-31\n",
    "\n",
    "This notebook illustrates how to change\n",
    "\n",
    "# Notebook setup\n",
    "\n",
    "## Load libraries"
   ],
   "id": "647f4d82-806c-4daf-93cb-edc2a7a15d33"
  },
  {
   "cell_type": "code",
   "execution_count": null,
   "metadata": {},
   "outputs": [
    {
     "output_type": "stream",
     "name": "stderr",
     "text": [
      "\n",
      "Attaching package: 'dplyr'"
     ]
    },
    {
     "output_type": "stream",
     "name": "stderr",
     "text": [
      "The following objects are masked from 'package:stats':\n",
      "\n",
      "    filter, lag"
     ]
    },
    {
     "output_type": "stream",
     "name": "stderr",
     "text": [
      "The following objects are masked from 'package:base':\n",
      "\n",
      "    intersect, setdiff, setequal, union"
     ]
    }
   ],
   "source": [
    "library(ggplot2)\n",
    "library(dplyr)"
   ],
   "id": "d98adfe8-9c79-4b1a-b933-c471282f0f34"
  },
  {
   "cell_type": "markdown",
   "metadata": {},
   "source": [
    "## Load data\n",
    "\n",
    "The toy dataset we’ll use in this notebook is `laptop_price.csv`. It\n",
    "contains information on the price of laptops, as well as the laptops’\n",
    "core featurs. The source for the dataset is\n",
    "https://www.kaggle.com/datasets/muhammetvarl/laptop-price"
   ],
   "id": "1915b6f9-0836-4748-9c4e-394dcd81f2c1"
  },
  {
   "cell_type": "code",
   "execution_count": null,
   "metadata": {},
   "outputs": [
    {
     "output_type": "stream",
     "name": "stderr",
     "text": [
      "Rows: 1303 Columns: 13\n",
      "── Column specification ────────────────────────────────────────────────────────\n",
      "Delimiter: \",\"\n",
      "chr (10): Company, Product, TypeName, ScreenResolution, Cpu, Ram, Memory, Gp...\n",
      "dbl  (3): laptop_ID, Inches, Price_euros\n",
      "\n",
      "ℹ Use `spec()` to retrieve the full column specification for this data.\n",
      "ℹ Specify the column types or set `show_col_types = FALSE` to quiet this message."
     ]
    },
    {
     "output_type": "stream",
     "name": "stdout",
     "text": [
      "# A tibble: 1,303 × 13\n",
      "   laptop_ID Company Product TypeName Inches ScreenResolution Cpu   Ram   Memory\n",
      "       <dbl> <chr>   <chr>   <chr>     <dbl> <chr>            <chr> <chr> <chr> \n",
      " 1         1 Apple   MacBoo… Ultrabo…   13.3 IPS Panel Retin… Inte… 8GB   128GB…\n",
      " 2         2 Apple   Macboo… Ultrabo…   13.3 1440x900         Inte… 8GB   128GB…\n",
      " 3         3 HP      250 G6  Notebook   15.6 Full HD 1920x10… Inte… 8GB   256GB…\n",
      " 4         4 Apple   MacBoo… Ultrabo…   15.4 IPS Panel Retin… Inte… 16GB  512GB…\n",
      " 5         5 Apple   MacBoo… Ultrabo…   13.3 IPS Panel Retin… Inte… 8GB   256GB…\n",
      " 6         6 Acer    Aspire… Notebook   15.6 1366x768         AMD … 4GB   500GB…\n",
      " 7         7 Apple   MacBoo… Ultrabo…   15.4 IPS Panel Retin… Inte… 16GB  256GB…\n",
      " 8         8 Apple   Macboo… Ultrabo…   13.3 1440x900         Inte… 8GB   256GB…\n",
      " 9         9 Asus    ZenBoo… Ultrabo…   14   Full HD 1920x10… Inte… 16GB  512GB…\n",
      "10        10 Acer    Swift 3 Ultrabo…   14   IPS Panel Full … Inte… 8GB   256GB…\n",
      "# ℹ 1,293 more rows\n",
      "# ℹ 4 more variables: Gpu <chr>, OpSys <chr>, Weight <chr>, Price_euros <dbl>"
     ]
    }
   ],
   "source": [
    "df <- read_csv(\"~/githubRepos/data-viz-smm635/data/laptops/laptop_price.csv\")"
   ],
   "id": "2ee18061-2020-446d-8f9d-d4b63a423644"
  },
  {
   "cell_type": "markdown",
   "metadata": {},
   "source": [
    "# Colors\n",
    "\n",
    "## Visual forms’ inner color, boarder color, and transparency\n",
    "\n",
    "In `ggplot2`, it is possible to alter a visual form’s default color by\n",
    "passing an optional parameter to the geomtric object at hand. Let’s\n",
    "consider a bar chart showing the distribution of laptops across\n",
    "different screen sizes.\n",
    "<a href=\"#fig-base\" class=\"quarto-xref\">Figure 1</a> illustrates a chart\n",
    "whose bars exhibit `ggplot2`’s default color. Populating the optional\n",
    "parameter `fill` would alter the chosen visual form’s inner color – see\n",
    "<a href=\"#fig-fill\" class=\"quarto-xref\">Figure 2</a>; the optional\n",
    "parameter `colour` affects the visual form’s boarder color – see\n",
    "<a href=\"#fig-fillandboard\" class=\"quarto-xref\">Figure 3</a>. It is also\n",
    "possible to regulate the transparency of the chosen color by fixing the\n",
    "optional `alpha` parameter – see\n",
    "<a href=\"#fig-alpha\" class=\"quarto-xref\">Figure 4</a>. Note that the\n",
    "smaller is the scalar value you pass to `alpha`, the more transparent is\n",
    "the visual form – see\n",
    "<a href=\"#fig-alphaagg\" class=\"quarto-xref\">Figure 5</a>."
   ],
   "id": "7b5c0112-8a0b-41df-abda-5e7d226d682b"
  },
  {
   "cell_type": "code",
   "execution_count": null,
   "metadata": {},
   "outputs": [
    {
     "output_type": "display_data",
     "metadata": {},
     "data": {}
    }
   ],
   "source": [
    "p <- ggplot(data = df, mapping = aes(factor(Inches)))\n",
    "p + geom_bar()"
   ],
   "id": "e366fe6d-6d0a-40e8-9a20-dd5f82f091c9"
  },
  {
   "cell_type": "code",
   "execution_count": null,
   "metadata": {},
   "outputs": [
    {
     "output_type": "display_data",
     "metadata": {},
     "data": {}
    }
   ],
   "source": [
    "p <- ggplot(data = df, mapping = aes(factor(Inches)))\n",
    "p + geom_bar(fill = \"magenta\")"
   ],
   "id": "c9421f1c-39fc-403d-b14e-f7e3e48ad39c"
  },
  {
   "cell_type": "code",
   "execution_count": null,
   "metadata": {},
   "outputs": [
    {
     "output_type": "display_data",
     "metadata": {},
     "data": {}
    }
   ],
   "source": [
    "p <- ggplot(data = df, mapping = aes(factor(Inches)))\n",
    "p + geom_bar(fill = \"magenta\", colour = \"blue\")"
   ],
   "id": "d5382708-4cde-407c-a468-090fe6a53e5d"
  },
  {
   "cell_type": "code",
   "execution_count": null,
   "metadata": {},
   "outputs": [
    {
     "output_type": "display_data",
     "metadata": {},
     "data": {}
    }
   ],
   "source": [
    "p <- ggplot(data = df, mapping = aes(factor(Inches)))\n",
    "p + geom_bar(fill = \"green\", alpha = 0.5)"
   ],
   "id": "a88f06ce-40f0-4db7-bee5-346de234bf4b"
  },
  {
   "cell_type": "code",
   "execution_count": null,
   "metadata": {},
   "outputs": [
    {
     "output_type": "display_data",
     "metadata": {},
     "data": {}
    }
   ],
   "source": [
    "p <- ggplot(data = df, mapping = aes(factor(Inches)))\n",
    "p + geom_bar(fill = \"green\", alpha = 0.1)"
   ],
   "id": "0cb908af-3edf-4d3c-ad41-4bdd3ad95650"
  },
  {
   "cell_type": "markdown",
   "metadata": {},
   "source": [
    "## Scales\n",
    "\n",
    "`ggplot2` comes with plenty of [color scales and\n",
    "palettes](https://ggplot2-book.org/scales-colour#brewer-scales) that can\n",
    "help discriminate visually various data groups. Let’s suppose to expand\n",
    "on the visualization reported in\n",
    "<a href=\"#fig-boxplot\" class=\"quarto-xref\">Figure 6</a>, dealing with\n",
    "the distribution of laptop price across different screen size groups.\n",
    "Specifically, we want to add another dimension to\n",
    "<a href=\"#fig-boxplot\" class=\"quarto-xref\">Figure 6</a> to show how\n",
    "laptop prices change across screen and ram size groups. By default,\n",
    "`ggplot2` will use the `hue` color scale see ―\n",
    "<a href=\"#fig-boxplotdefault\" class=\"quarto-xref\">Figure 7</a>. To adopt\n",
    "a non-default color scale, the optional argument `scale_color_*` must be\n",
    "populated. In\n",
    "<a href=\"#fig-boxplotbrewer\" class=\"quarto-xref\">Figure 8</a>, I adopt a\n",
    "color scale for discrete data, namely\n",
    "[`brewer`](https://ggplot2-book.org/scales-colour#brewer-scales).\n",
    "*Warning*: always ensure to pair discrete (continuous) color scales with\n",
    "discrete (continuous) variables. Otherwise, `ggplot2` will return an\n",
    "error, e.g., `Discrete values supplied to continuous scale`."
   ],
   "id": "9061216c-db5c-492e-a269-61ef0fbb7e01"
  },
  {
   "cell_type": "code",
   "execution_count": null,
   "metadata": {},
   "outputs": [
    {
     "output_type": "display_data",
     "metadata": {},
     "data": {}
    }
   ],
   "source": [
    "p <- ggplot(data = df, mapping = aes(x = factor(Inches), y = Price_euros))\n",
    "p + geom_boxplot()"
   ],
   "id": "8ebde6cd-94ac-4ec3-84cd-02f2818b9323"
  },
  {
   "cell_type": "code",
   "execution_count": null,
   "metadata": {},
   "outputs": [
    {
     "output_type": "display_data",
     "metadata": {},
     "data": {}
    }
   ],
   "source": [
    "p <- ggplot(data = df, mapping = aes(x = factor(Inches), y = Price_euros))\n",
    "p + geom_boxplot(aes(colour = Ram))"
   ],
   "id": "12b29b5d-c6aa-41e3-9779-eb7ff4cdb6ff"
  },
  {
   "cell_type": "code",
   "execution_count": null,
   "metadata": {},
   "outputs": [
    {
     "output_type": "display_data",
     "metadata": {},
     "data": {}
    }
   ],
   "source": [
    "p <- ggplot(data = df, mapping = aes(x = factor(Inches), y = Price_euros))\n",
    "p + geom_boxplot(aes(colour = Ram)) + scale_color_brewer(palette = \"Paired\")"
   ],
   "id": "1fbba99d-429d-4313-b42a-166e74ab7f80"
  },
  {
   "cell_type": "markdown",
   "metadata": {},
   "source": [
    "# Shapes\n",
    "\n",
    "In data visualization, shapes can play a role similar to colors, by\n",
    "representing further data dimensions. For example,\n",
    "<a href=\"#fig-colors\" class=\"quarto-xref\">Figure 9</a> and\n",
    "<a href=\"#fig-shapes\" class=\"quarto-xref\">Figure 10</a> use color and\n",
    "shapes, respectively, to denote two different data series regarding\n",
    "Apple and Lenovo laptops."
   ],
   "id": "a3f7c992-264a-48ae-b614-714998f6875a"
  },
  {
   "cell_type": "code",
   "execution_count": null,
   "metadata": {},
   "outputs": [
    {
     "output_type": "stream",
     "name": "stderr",
     "text": [
      "`summarise()` has grouped output by 'Company'. You can override using the\n",
      "`.groups` argument."
     ]
    },
    {
     "output_type": "display_data",
     "metadata": {},
     "data": {}
    }
   ],
   "source": [
    "cols <- c(\"Company\", \"Inches\")\n",
    "apple_lenovo <- df |> filter(Company == \"Apple\" | Company == \"Lenovo\")\n",
    "ave <- apple_lenovo |> group_by(across(all_of(cols))) |> summarize(ave_price = mean(Price_euros))"
   ],
   "id": "46ae2917-80d9-41d5-b0bb-37e67ab21db3"
  },
  {
   "cell_type": "code",
   "execution_count": null,
   "metadata": {},
   "outputs": [
    {
     "output_type": "display_data",
     "metadata": {},
     "data": {}
    }
   ],
   "source": [
    "p <- ggplot(data = ave, mapping = aes(x = factor(Inches), y = ave_price, shape = factor(Company)))\n",
    "p + geom_point()"
   ],
   "id": "3ba11112-6700-4d7f-95a4-c8de7408ff40"
  },
  {
   "cell_type": "markdown",
   "metadata": {},
   "source": [
    "At the same time, one may want to adopt a non-default shape across all\n",
    "data series. That would be the case of\n",
    "<a href=\"#fig-changingshapes\" class=\"quarto-xref\">Figure 11</a>, in\n",
    "which shape ‘5’ ― an empty circle ― replaces `ggplot2`’s default shape.\n",
    "**?@fig-ggplot2shapes** provides a summary of the shapes available in\n",
    "`ggplot2` and their underlying numeric codes."
   ],
   "id": "0395ba45-89a1-4630-a5e2-c5628dce04f3"
  },
  {
   "cell_type": "code",
   "execution_count": null,
   "metadata": {},
   "outputs": [
    {
     "output_type": "display_data",
     "metadata": {},
     "data": {}
    }
   ],
   "source": [
    "p <- ggplot(data = ave, mapping = aes(x = factor(Inches), y = ave_price, color = factor(Company)))\n",
    "p + geom_point(shape = 5)"
   ],
   "id": "ee04e24c-a37a-4101-b4fd-ea3bcd4ffd27"
  }
 ],
 "nbformat": 4,
 "nbformat_minor": 5,
 "metadata": {}
}
