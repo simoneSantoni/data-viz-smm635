{
 "cells": [
  {
   "cell_type": "code",
   "execution_count": 2,
   "metadata": {},
   "outputs": [],
   "source": [
    "import turtle as t"
   ]
  },
  {
   "cell_type": "markdown",
   "metadata": {
    "slideshow": {
     "slide_type": "subslide"
    }
   },
   "source": [
    "# Step 1: Data model setup"
   ]
  },
  {
   "cell_type": "markdown",
   "metadata": {
    "cell_style": "split",
    "slideshow": {
     "slide_type": "fragment"
    }
   },
   "source": [
    "Set up the data for a sample USA state (Colorado) as a list with: \n",
    "\n",
    "+ name\n",
    "+ polygon points\n",
    "+ and population"
   ]
  },
  {
   "cell_type": "code",
   "execution_count": 3,
   "metadata": {
    "ExecuteTime": {
     "end_time": "2020-11-17T15:06:49.076829Z",
     "start_time": "2020-11-17T15:06:49.073470Z"
    },
    "cell_style": "split",
    "slideshow": {
     "slide_type": "fragment"
    }
   },
   "outputs": [],
   "source": [
    "NAME = 0\n",
    "POINTS = 1\n",
    "POP = 2\n",
    "\n",
    "state = [\"COLORADO\",\n",
    "         [[-109, 37], [-109, 41],\n",
    "          [-102, 41], [-102, 37]],\n",
    "         5187582]"
   ]
  },
  {
   "cell_type": "markdown",
   "metadata": {
    "cell_style": "center",
    "slideshow": {
     "slide_type": "fragment"
    }
   },
   "source": [
    "Let's add some information about cities nested in the focal state\n",
    "\n",
    "- the cities will be stored as nested lists \n",
    "- each city's location consists of a single point as a longitude and latitude pair"
   ]
  },
  {
   "cell_type": "code",
   "execution_count": 4,
   "metadata": {
    "ExecuteTime": {
     "end_time": "2020-11-17T15:07:08.816004Z",
     "start_time": "2020-11-17T15:07:08.812417Z"
    },
    "cell_style": "center",
    "slideshow": {
     "slide_type": "fragment"
    }
   },
   "outputs": [],
   "source": [
    "cities = []\n",
    "cities.append([\"DENVER\",[-104.98, 39.74], 634265])\n",
    "cities.append([\"BOULDER\",[-105.27, 40.02], 98889])\n",
    "cities.append([\"DURANGO\",[-107.88,37.28], 17069])"
   ]
  },
  {
   "cell_type": "markdown",
   "metadata": {
    "slideshow": {
     "slide_type": "subslide"
    }
   },
   "source": [
    "# Step 2: Fix map size"
   ]
  },
  {
   "cell_type": "markdown",
   "metadata": {
    "slideshow": {
     "slide_type": "fragment"
    }
   },
   "source": [
    "We will now render our GIS data as a map by first defining a map size\n",
    "\n",
    "The _width_ and _height_ can be anything that you want depending on your screen resolution"
   ]
  },
  {
   "cell_type": "code",
   "execution_count": 5,
   "metadata": {
    "ExecuteTime": {
     "end_time": "2020-11-17T15:07:14.943508Z",
     "start_time": "2020-11-17T15:07:14.940522Z"
    },
    "slideshow": {
     "slide_type": "fragment"
    }
   },
   "outputs": [],
   "source": [
    "map_width = 400\n",
    "map_height = 300"
   ]
  },
  {
   "cell_type": "markdown",
   "metadata": {
    "slideshow": {
     "slide_type": "subslide"
    }
   },
   "source": [
    "# Step 3: Scaling the map"
   ]
  },
  {
   "cell_type": "markdown",
   "metadata": {
    "slideshow": {
     "slide_type": "fragment"
    }
   },
   "source": [
    "In order to scale the map to the graphics canvas, we must first determine the bounding box of the largest layer, which is the state\n",
    "\n",
    "We'll set the map's bounding box to a global scale and reduce it to the size of the state. To do so:\n",
    "\n",
    "- we'll loop through the longitude and latitude of each point and compare it with the current minimum and maximum x and y values\n",
    "- if it is larger than the current maximum or smaller than the current minimum, we'll make this value the new maximum or minimum, respectively"
   ]
  },
  {
   "cell_type": "code",
   "execution_count": 6,
   "metadata": {
    "ExecuteTime": {
     "end_time": "2020-11-17T15:07:38.823173Z",
     "start_time": "2020-11-17T15:07:38.819316Z"
    },
    "slideshow": {
     "slide_type": "fragment"
    }
   },
   "outputs": [],
   "source": [
    "minx = 105\n",
    "maxx = -112\n",
    "miny = 40\n",
    "maxy = -44\n",
    "\n",
    "for x, y in state[POINTS]:\n",
    "    if x < minx: minx = x\n",
    "    elif x > maxx: maxx = x\n",
    "    if y < miny: miny = y\n",
    "    elif y > maxy: maxy = y"
   ]
  },
  {
   "cell_type": "markdown",
   "metadata": {
    "slideshow": {
     "slide_type": "subslide"
    }
   },
   "source": [
    "# Step 3: Scaling the map (cont'd)"
   ]
  },
  {
   "cell_type": "markdown",
   "metadata": {
    "slideshow": {
     "slide_type": "fragment"
    }
   },
   "source": [
    "The second step to scaling is to calculate a ratio between the actual state and the tiny canvas that we will render it on\n",
    "\n",
    "This ratio is used for coordinate to pixel conversion. We get the size along the x and y axes of the state and then we divide the map width and height by these numbers to get our scaling ratio:"
   ]
  },
  {
   "cell_type": "code",
   "execution_count": 7,
   "metadata": {
    "ExecuteTime": {
     "end_time": "2020-11-17T15:08:01.898811Z",
     "start_time": "2020-11-17T15:08:01.896109Z"
    },
    "slideshow": {
     "slide_type": "fragment"
    }
   },
   "outputs": [],
   "source": [
    "dist_x = maxx - minx\n",
    "dist_y = maxy - miny\n",
    "x_ratio = map_width / dist_x\n",
    "y_ratio = map_height / dist_y"
   ]
  },
  {
   "cell_type": "markdown",
   "metadata": {
    "slideshow": {
     "slide_type": "subslide"
    }
   },
   "source": [
    "# Step 4: Sample GIS function"
   ]
  },
  {
   "cell_type": "markdown",
   "metadata": {
    "slideshow": {
     "slide_type": "fragment"
    }
   },
   "source": [
    "Let be 'convert()' our sample GIS function\n",
    "- we require convert() to transform a point in the map coordinates from one of our data layers to pixel coordinates using the previous calculations\n",
    "- in order to to account for the unusual center origin of the turtle graphics canvas, we divide the map width and height in half and subtract it from the final conversion "
   ]
  },
  {
   "cell_type": "code",
   "execution_count": 8,
   "metadata": {
    "ExecuteTime": {
     "end_time": "2020-11-17T15:08:07.056762Z",
     "start_time": "2020-11-17T15:08:07.053107Z"
    },
    "slideshow": {
     "slide_type": "fragment"
    }
   },
   "outputs": [],
   "source": [
    "def convert(point):\n",
    "    lon = point[0]\n",
    "    lat = point[1]\n",
    "    x = map_width - ((maxx - lon) * x_ratio)\n",
    "    y = map_height - ((maxy - lat) * y_ratio)\n",
    "    # Python turtle graphics start in the\n",
    "    # middle of the screen\n",
    "    # so we must offset the points so they are centered\n",
    "    x = x - (map_width/2)\n",
    "    y = y - (map_height/2)\n",
    "    return [x,y]"
   ]
  },
  {
   "cell_type": "markdown",
   "metadata": {
    "slideshow": {
     "slide_type": "subslide"
    }
   },
   "source": [
    "# Step 5: Render our GIS as a thematic map"
   ]
  },
  {
   "cell_type": "markdown",
   "metadata": {
    "slideshow": {
     "slide_type": "fragment"
    }
   },
   "source": [
    "- the turtle module uses the concept of a cursor called a pen\n",
    "- moving the cursor around the canvas is exactly the same as moving a pen around a piece of paper\n",
    "- the cursor will draw a line when you move it―so, you'll notice that throughout the code, we use the t.up() and t.down() commands to pick the pen up when we want to move to a new location and put it down when we're ready to draw. We have some important steps in this section\n",
    "- as the border of Colorado is a polygon, we must draw a line between the last point and first point to close the polygon. We can also leave out the closing step and just add a duplicate point to the Colorado dataset\n",
    "- once we draw the state, we'll use the write() method to label the polygon"
   ]
  },
  {
   "cell_type": "code",
   "execution_count": 9,
   "metadata": {
    "ExecuteTime": {
     "end_time": "2020-11-17T15:08:12.228093Z",
     "start_time": "2020-11-17T15:08:08.902554Z"
    },
    "slideshow": {
     "slide_type": "fragment"
    }
   },
   "outputs": [],
   "source": [
    "first_pixel = None\n",
    "t.up()\n",
    "\n",
    "for point in state[POINTS]:\n",
    "    pixel = convert(point)\n",
    "    if not first_pixel:\n",
    "        first_pixel=pixel\n",
    "    t.goto(pixel)\n",
    "    t.down()\n",
    "\n",
    "\n",
    "t.goto(first_pixel)\n",
    "t.up()\n",
    "t.goto([0,0])\n",
    "t.write(state[NAME], align=\"center\", font=(\"Arial\",16,\"bold\"))"
   ]
  },
  {
   "cell_type": "markdown",
   "metadata": {
    "slideshow": {
     "slide_type": "subslide"
    }
   },
   "source": [
    "# Step 5: Render our GIS as a thematic map (cont'd)"
   ]
  },
  {
   "cell_type": "markdown",
   "metadata": {
    "slideshow": {
     "slide_type": "fragment"
    }
   },
   "source": [
    "- now, we'll render the cities as point locations and label them with their names and population;\n",
    "- as the cities are a group of features in a list, we'll loop through them to render them. Instead of drawing lines by moving the pen around, we'll use the turtle dot() method to plot a small circle at the pixel coordinate returned by our SimpleGISconvert() function\n",
    "- you'll notice that we must convert the population number to a string in order to use it in the turtle write() method. To do so, we use Python's built-in function, str()"
   ]
  },
  {
   "cell_type": "code",
   "execution_count": 10,
   "metadata": {
    "ExecuteTime": {
     "end_time": "2020-11-17T15:08:25.832547Z",
     "start_time": "2020-11-17T15:08:24.910387Z"
    },
    "slideshow": {
     "slide_type": "fragment"
    }
   },
   "outputs": [],
   "source": [
    "for city in cities:\n",
    "    pixel = convert(city[POINTS])\n",
    "    t.up()\n",
    "    t.goto(pixel)\n",
    "    # Place a point for the city\n",
    "    t.dot(10)\n",
    "    # Label the city\n",
    "    t.write(city[NAME] + \", Pop.: \" + str(city[POP]), align=\"left\")\n",
    "    t.up()"
   ]
  },
  {
   "cell_type": "code",
   "execution_count": null,
   "metadata": {},
   "outputs": [],
   "source": []
  }
 ],
 "metadata": {
  "celltoolbar": "Slideshow",
  "gist": {
   "data": {
    "description": "week5/slideshow_0.ipynb",
    "public": false
   },
   "id": ""
  },
  "hide_input": false,
  "kernelspec": {
   "display_name": "Python 3.9.12 ('base')",
   "language": "python",
   "name": "python3"
  },
  "language_info": {
   "codemirror_mode": {
    "name": "ipython",
    "version": 3
   },
   "file_extension": ".py",
   "mimetype": "text/x-python",
   "name": "python",
   "nbconvert_exporter": "python",
   "pygments_lexer": "ipython3",
   "version": "3.9.12"
  },
  "latex_envs": {
   "LaTeX_envs_menu_present": true,
   "autoclose": false,
   "autocomplete": true,
   "bibliofile": "biblio.bib",
   "cite_by": "apalike",
   "current_citInitial": 1,
   "eqLabelWithNumbers": true,
   "eqNumInitial": 1,
   "hotkeys": {
    "equation": "Ctrl-E",
    "itemize": "Ctrl-I"
   },
   "labels_anchors": false,
   "latex_user_defs": false,
   "report_style_numbering": false,
   "user_envs_cfg": false
  },
  "nbTranslate": {
   "displayLangs": [
    "*"
   ],
   "hotkey": "alt-t",
   "langInMainMenu": true,
   "sourceLang": "en",
   "targetLang": "fr",
   "useGoogleTranslate": true
  },
  "pycharm": {
   "stem_cell": {
    "cell_type": "raw",
    "metadata": {
     "collapsed": false
    },
    "source": []
   }
  },
  "rise": {
   "enable_chalkboard": true
  },
  "toc": {
   "base_numbering": 1,
   "nav_menu": {},
   "number_sections": false,
   "sideBar": true,
   "skip_h1_title": false,
   "title_cell": "Table of Contents",
   "title_sidebar": "Contents",
   "toc_cell": true,
   "toc_position": {
    "height": "calc(100% - 180px)",
    "left": "10px",
    "top": "150px",
    "width": "273px"
   },
   "toc_section_display": true,
   "toc_window_display": false
  },
  "varInspector": {
   "cols": {
    "lenName": 16,
    "lenType": 16,
    "lenVar": 40
   },
   "kernels_config": {
    "python": {
     "delete_cmd_postfix": "",
     "delete_cmd_prefix": "del ",
     "library": "var_list.py",
     "varRefreshCmd": "print(var_dic_list())"
    },
    "r": {
     "delete_cmd_postfix": ") ",
     "delete_cmd_prefix": "rm(",
     "library": "var_list.r",
     "varRefreshCmd": "cat(var_dic_list()) "
    }
   },
   "types_to_exclude": [
    "module",
    "function",
    "builtin_function_or_method",
    "instance",
    "_Feature"
   ],
   "window_display": false
  },
  "vscode": {
   "interpreter": {
    "hash": "adf7a2dfe92146f310bb70715fcb836024dfa469c90dc5a39450ef2153084cc2"
   }
  }
 },
 "nbformat": 4,
 "nbformat_minor": 2
}
