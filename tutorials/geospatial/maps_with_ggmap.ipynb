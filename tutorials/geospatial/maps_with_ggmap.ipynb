{
  "cells": [
    {
      "cell_type": "markdown",
      "metadata": {},
      "source": [
        "# Maps with ggplot2’s extension ggmap\n",
        "\n",
        "Simone Santoni  \n",
        "2024-12-02\n",
        "\n",
        "This notebook shows how to create maps with ggmap\n",
        "\n",
        "# Notebook setup\n",
        "\n",
        "## Load libraries\n",
        "\n",
        "We import tidyverse’s `tibble` and `ggmap` to create the maps. The\n",
        "former is a data manipulation library, while the latter is an extension\n",
        "of `ggplot2` that allows us to create maps."
      ],
      "id": "fa73ca5c-0aba-4c61-a199-90632f9c8d9e"
    },
    {
      "cell_type": "code",
      "execution_count": null,
      "metadata": {},
      "outputs": [],
      "source": [
        "library(tibble) \n",
        "library(ggmap)"
      ],
      "id": "0dcc6c79-b8bb-4ece-8cbf-91559f0ddb31"
    },
    {
      "cell_type": "markdown",
      "metadata": {},
      "source": [
        "## Toy dataset\n",
        "\n",
        "The data consists of a single point, namely, the location of New York\n",
        "Univerty. The dataset is a tibble with three columns, a label for NYU,\n",
        "see `name`, and `lon` and `lat` pair. As we know, `tibble` allows to\n",
        "initialize a dataset ‘visually’ by means of the `tribble` function."
      ],
      "id": "38e35896-0dd8-47af-9814-5d684df02e92"
    },
    {
      "cell_type": "code",
      "execution_count": null,
      "metadata": {},
      "outputs": [],
      "source": [
        "unis = tribble(\n",
        "  ~name, ~lon, ~lat,\n",
        "  \"New York University\", -73.9965, 40.7295\n",
        ")"
      ],
      "id": "3a64b1c4-c8bf-4de0-98ab-bdba64601210"
    },
    {
      "cell_type": "markdown",
      "metadata": {},
      "source": [
        "# Create a geo-spatial chart\n",
        "\n",
        "## Fetching a map\n",
        "\n",
        "The geospatial chart creating process is straightforward. We use\n",
        "[`ggmap`](https://cran.r-project.org/web/packages/ggmap/readme/README.html)’s\n",
        "`get_map` function to download the map of the area we are interested in.\n",
        "In this case, we are interested in the map of New York City. The\n",
        "function requires the following arguments:\n",
        "\n",
        "-   `center`: the coordinates of the area we are interested in *OR* the\n",
        "    name of an entity, e.g., “New York”\n",
        "-   `zoom`: the zoom level\n",
        "-   `size`: the size of the map\n",
        "-   `maptype`: the type of map we want to download\n",
        "\n",
        "It is worh noticinging that `ggmap` can retrieve maps from Google Maps\n",
        "or Stadia. In both cases, you have to register your application to get\n",
        "an API key.[1] The below code snippet uses Google Maps. In this case,\n",
        "the center of the can be a precise pair of coordinates or the name of\n",
        "the area we are interested in. The map type is set to `hybrid`, which is\n",
        "a mix of satellite and road maps.\n",
        "\n",
        "[1] Having loaded `ggmap`, one can register an API key on a temporary\n",
        "basis with `register_google(key = \"[your key]\")` or permanently using\n",
        "`register_google(key = \"[your key]\", write = TRUE)`."
      ],
      "id": "1531a652-2e33-4297-bb89-25c754f3d6bd"
    },
    {
      "cell_type": "code",
      "execution_count": null,
      "metadata": {
        "labels": "fig-map-ny"
      },
      "outputs": [],
      "source": [
        "ny_map <- get_googlemap(\n",
        "  #center = c(lon = -74.0060, lat = 40.7128),\n",
        "  center = \"New York\",\n",
        "  zoom = 11,\n",
        "  size = c(1200, 1200),\n",
        "  maptype = \"hybrid\",\n",
        "  source = \"google\"\n",
        ")\n",
        "ny_map"
      ],
      "id": "487a4afb-86e0-43a5-822d-486e9e4301b6"
    },
    {
      "cell_type": "markdown",
      "metadata": {},
      "source": [
        "## Plot some geo-located entities\n",
        "\n",
        "It is possible to map the data using a typical ‘pipeline’ approach a’ la\n",
        "tidyverse."
      ],
      "id": "04dca87a-6525-4bce-97bd-63422b5639bf"
    },
    {
      "cell_type": "code",
      "execution_count": null,
      "metadata": {},
      "outputs": [
        {
          "output_type": "display_data",
          "metadata": {},
          "data": {}
        }
      ],
      "source": [
        "get_googlemap(\n",
        "  center = c(lon = -74.0060, lat = 40.7128),\n",
        "  markers = unis[, c(\"lon\", \"lat\")],\n",
        "  zoom = 11,\n",
        "  size = c(1200, 1200),\n",
        "  maptype = \"hybrid\",\n",
        ") |> ggmap()"
      ],
      "id": "70aae012-8498-4a80-81a7-2eaa0ebbbac8"
    },
    {
      "cell_type": "markdown",
      "metadata": {},
      "source": [
        "Alternatively, we can use the `geom_point` function to plot the data."
      ],
      "id": "fcaf55f2-8a05-4ce2-9c89-dccd07b2b9b3"
    },
    {
      "cell_type": "code",
      "execution_count": null,
      "metadata": {
        "labels": "fig-map-ny-label"
      },
      "outputs": [
        {
          "output_type": "display_data",
          "metadata": {},
          "data": {}
        }
      ],
      "source": [
        "ggmap(ny_map) +\n",
        "  geom_label(data = unis, color = \"purple\", label = unis$name, size = 5) +\n",
        "  theme_nothing()"
      ],
      "id": "150650fb-4656-4958-b57b-f34221a8e66a"
    }
  ],
  "nbformat": 4,
  "nbformat_minor": 5,
  "metadata": {
    "kernelspec": {
      "display_name": "Python 3",
      "language": "python",
      "name": "python3"
    }
  }
}