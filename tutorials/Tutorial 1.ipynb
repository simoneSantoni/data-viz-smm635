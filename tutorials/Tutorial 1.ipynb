{
 "cells": [
  {
   "cell_type": "markdown",
   "metadata": {},
   "source": [
    "## Tutorial 1: Introduction to matplotlib\n"
   ]
  },
  {
   "cell_type": "markdown",
   "metadata": {},
   "source": [
    "### 1. Multiple graphs in one figure\n"
   ]
  },
  {
   "cell_type": "code",
   "execution_count": 1,
   "metadata": {},
   "outputs": [],
   "source": [
    "# load libraries\n",
    "import os\n",
    "import numpy as np\n",
    "from matplotlib import rc\n",
    "import matplotlib.pyplot as plt\n",
    "import matplotlib.gridspec as gridspec"
   ]
  },
  {
   "cell_type": "code",
   "execution_count": 2,
   "metadata": {},
   "outputs": [],
   "source": [
    "# generate fake data\n",
    "x = np.arange(0, 10, 1) \n",
    "y0 = np.square(x)\n",
    "y1 = np.sqrt(x)\n",
    "y2 = 2 + x"
   ]
  },
  {
   "cell_type": "code",
   "execution_count": 3,
   "metadata": {},
   "outputs": [
    {
     "data": {
      "image/png": "[encoded data removed]",
      "text/plain": [
       "<Figure size 432x432 with 3 Axes>"
      ]
     },
     "metadata": {
      "needs_background": "light"
     },
     "output_type": "display_data"
    }
   ],
   "source": [
    "# create figure\n",
    "fig = plt.figure(figsize=(6, 6))\n",
    "\n",
    "# parition the figure into 4 subplots with 'gridspec'\n",
    "gs = gridspec.GridSpec(2, 4, # we want 2 rows, 4 cols\n",
    "                       figure=fig, # this gs applies to figure\n",
    "                       hspace=0.5, wspace=1, # separation between plots\n",
    "                       width_ratios=[1, 1, 1, 3], # ration between the first and second column\n",
    "                       height_ratios=[1, 1]\n",
    "                    ) # ration between the first ans second row\n",
    "\n",
    "# add plots\n",
    "ax0 = fig.add_subplot(gs[0, 0:2]) # this will occupy the first row-first colum\n",
    "ax1 = fig.add_subplot(gs[0, 2:4]) # and so on and so forth...\n",
    "ax2 = fig.add_subplot(gs[1, 1:3])\n",
    "\n",
    "# plot left-top\n",
    "ax0.plot(x, y0, marker='o', color='green')\n",
    "ax0.set_xlabel(r'$x$')\n",
    "ax0.set_ylabel(r'$x^{2}$')\n",
    "ax0.grid(ls='--')\n",
    "\n",
    "# plot right-top\n",
    "ax1.plot(x, y1, marker='s', color='red')\n",
    "ax1.set_xlabel(r'$x$')\n",
    "ax1.set_ylabel(r'$\\sqrt{x}$')\n",
    "ax1.grid(ls='--')\n",
    "\n",
    "# plot middle-bottom\n",
    "ax2.plot(x, y2, marker='d', color='blue')\n",
    "ax2.set_xlabel(r'$x$')\n",
    "ax2.set_ylabel(r'$2 + x$')\n",
    "ax2.grid(ls='--')\n",
    "\n",
    "# save plot\n",
    "out_f = os.path.join(os.getcwd(), 'multiple_plots.pdf')\n",
    "fig.savefig(out_f)\n",
    "\n",
    "\n",
    "# show plot\n",
    "plt.show()"
   ]
  },
  {
   "cell_type": "code",
   "execution_count": 4,
   "metadata": {},
   "outputs": [
    {
     "data": {
      "text/plain": [
       "'/Users/tireisas/Library/CloudStorage/OneDrive-City,UniversityofLondon/Documents/Teaching/DV/scripts/test_plot.pdf'"
      ]
     },
     "execution_count": 4,
     "metadata": {},
     "output_type": "execute_result"
    }
   ],
   "source": [
    "a=  'test_plot.pdf'\n",
    "os.getcwd()\n",
    "os.path.join(os.getcwd(),a)\n",
    "\n",
    "os.getcwd() + '/' + a\n"
   ]
  },
  {
   "cell_type": "markdown",
   "metadata": {},
   "source": [
    "x\n",
    "\n",
    "$x^2$\n"
   ]
  },
  {
   "cell_type": "markdown",
   "metadata": {},
   "source": [
    "### 2. Tufte scatter"
   ]
  },
  {
   "cell_type": "markdown",
   "metadata": {},
   "source": [
    "#### 2.1 How to dismanle the task\n",
    "\n",
    "**What is the procedure to draw it?**\n",
    "\n",
    "1. Create a figure with four plots (2 x 2)\n",
    "2. Change the grid space between the plots\n",
    "3. Plot three scatter plots\n",
    "4. Hide the unnecessary axes\n",
    "5. Add the dashed line\n",
    "6. Add the text\n",
    "\n",
    "**What is the problem we might meet?**\n",
    "\n",
    "1. How to create the plot like the left one and the bottom one?\n",
    "2. How to add the text in the plot?\n",
    "3. How to set the space between the plots?\n",
    "\n",
    "**What is the foreseen problem?**\n",
    "\n",
    "1. Maybe the axes are not aligned\n"
   ]
  },
  {
   "cell_type": "code",
   "execution_count": 5,
   "metadata": {},
   "outputs": [],
   "source": [
    "# aesthetics settings\n",
    "plt.style.use('seaborn-bright')\n",
    "plt.rc('text', usetex=True)\n",
    "plt.rc('font', family='serif', size=10)"
   ]
  },
  {
   "cell_type": "code",
   "execution_count": 6,
   "metadata": {},
   "outputs": [],
   "source": [
    "# generate the fake data\n",
    "np.random.seed(111) # fix the seed to ensure reproducibility\n",
    "n = 30\n",
    "x = np.random.randn(n)\n",
    "y = 10 + x * (1+ np.random.randn(n))"
   ]
  },
  {
   "cell_type": "code",
   "execution_count": 7,
   "metadata": {},
   "outputs": [
    {
     "name": "stderr",
     "output_type": "stream",
     "text": [
      "/var/folders/75/jx2xyqnd3k74bnk7xc0ps4w80000gn/T/ipykernel_11591/2781119128.py:21: UserWarning: Matplotlib is currently using module://matplotlib_inline.backend_inline, which is a non-GUI backend, so cannot show the figure.\n",
      "  fig.show()\n"
     ]
    },
    {
     "data": {
      "image/png": "[encoded data removed]",
      "text/plain": [
       "<Figure size 360x360 with 4 Axes>"
      ]
     },
     "metadata": {
      "needs_background": "light"
     },
     "output_type": "display_data"
    }
   ],
   "source": [
    "# create figure\n",
    "fig = plt.figure(figsize=(5, 5))\n",
    "\n",
    "# Step 1 and Step 2\n",
    "# parition the figure into 4 subplots with 'gridspec'\n",
    "gs = gridspec.GridSpec(2, 2, # we want 2 rows, 2 cols\n",
    "                       figure=fig, # this gs applies to figure\n",
    "                       hspace=-0.05, wspace=-0.05, # separation between plots\n",
    "                       width_ratios=[0.5, 10], # ratio between the first\n",
    "                       # and second column\n",
    "                       height_ratios=[10, 0.5]) # ratio between the first ans second row\n",
    "\n",
    "# add plots\n",
    "ax0 = fig.add_subplot(gs[0, 0]) # this will occupy the first row-first colum\n",
    "ax1 = fig.add_subplot(gs[0, 1]) # and so on and so forth...\n",
    "ax2 = fig.add_subplot(gs[1, 0])\n",
    "ax3 = fig.add_subplot(gs[1, 1])\n",
    "\n",
    "\n",
    "\n",
    "fig.show()"
   ]
  },
  {
   "cell_type": "code",
   "execution_count": 8,
   "metadata": {},
   "outputs": [
    {
     "data": {
      "text/plain": [
       "array([1., 1., 1., 1., 1., 1., 1., 1., 1., 1., 1., 1., 1., 1., 1., 1., 1.,\n",
       "       1., 1., 1., 1., 1., 1., 1., 1., 1., 1., 1., 1., 1.])"
      ]
     },
     "execution_count": 8,
     "metadata": {},
     "output_type": "execute_result"
    }
   ],
   "source": [
    "np.ones(len(y))"
   ]
  },
  {
   "cell_type": "code",
   "execution_count": 9,
   "metadata": {},
   "outputs": [
    {
     "name": "stderr",
     "output_type": "stream",
     "text": [
      "/var/folders/75/jx2xyqnd3k74bnk7xc0ps4w80000gn/T/ipykernel_11591/837062550.py:38: UserWarning: Matplotlib is currently using module://matplotlib_inline.backend_inline, which is a non-GUI backend, so cannot show the figure.\n",
      "  fig.show()\n"
     ]
    },
    {
     "data": {
      "image/png": "[encoded data removed]",
      "text/plain": [
       "<Figure size 360x360 with 4 Axes>"
      ]
     },
     "metadata": {
      "needs_background": "light"
     },
     "output_type": "display_data"
    }
   ],
   "source": [
    "# Step 1 and Step 2\n",
    "# create figure\n",
    "fig = plt.figure(figsize=(5, 5))\n",
    "\n",
    "# parition the figure into 4 subplots with 'gridspec'\n",
    "gs = gridspec.GridSpec(2, 2, # we want 2 rows, 2 cols\n",
    "                       figure=fig, # this gs applies to figure\n",
    "                       hspace=-0.05, wspace=-0.05, # separation between plots\n",
    "                       width_ratios=[0.5, 10], # ratio between the first\n",
    "                       # and second column\n",
    "                       height_ratios=[10, 0.5]) # ratio between the first ans second row\n",
    "\n",
    "# add plots\n",
    "ax0 = fig.add_subplot(gs[0, 0]) # this will occupy the first row-first colum\n",
    "ax1 = fig.add_subplot(gs[0, 1]) # and so on and so forth...\n",
    "ax2 = fig.add_subplot(gs[1, 0])\n",
    "ax3 = fig.add_subplot(gs[1, 1])\n",
    "\n",
    "# ---------------------------------------------------------------------------------------\n",
    "# Step 3 and Step 4\n",
    "\n",
    "# # empty plot\n",
    "ax2.axis('off')\n",
    "\n",
    "# # univariate distribution of y\n",
    "ax0.scatter(np.ones(len(y)), y, marker='_', color='black', alpha=1) # draw plot\n",
    "ax0.axis('off') # set axes off\n",
    "\n",
    "# x-y scatter diagram\n",
    "ax1.scatter(x, y, marker='o', s=15, color='black', alpha=1, edgecolor='white')\n",
    "ax1.axis('off') # remove axes\n",
    "\n",
    "# univariate distribution of x\n",
    "ax3.scatter(x, np.ones(len(x)), marker='|', color='black', alpha=1)\n",
    "ax3.axis('off')\n",
    "\n",
    "\n",
    "fig.show()"
   ]
  },
  {
   "cell_type": "code",
   "execution_count": 10,
   "metadata": {},
   "outputs": [
    {
     "name": "stderr",
     "output_type": "stream",
     "text": [
      "/Users/tireisas/miniconda3/envs/dbs/lib/python3.9/site-packages/numpy/core/shape_base.py:65: VisibleDeprecationWarning: Creating an ndarray from ragged nested sequences (which is a list-or-tuple of lists-or-tuples-or ndarrays with different lengths or shapes) is deprecated. If you meant to do this, you must specify 'dtype=object' when creating the ndarray.\n",
      "  ary = asanyarray(ary)\n",
      "/var/folders/75/jx2xyqnd3k74bnk7xc0ps4w80000gn/T/ipykernel_11591/3260173907.py:67: UserWarning: Matplotlib is currently using module://matplotlib_inline.backend_inline, which is a non-GUI backend, so cannot show the figure.\n",
      "  fig.show()\n"
     ]
    },
    {
     "data": {
      "image/png": "[encoded data removed]",
      "text/plain": [
       "<Figure size 360x360 with 4 Axes>"
      ]
     },
     "metadata": {
      "needs_background": "light"
     },
     "output_type": "display_data"
    }
   ],
   "source": [
    "# Step 1 and Step 2\n",
    "\n",
    "# create figure\n",
    "fig = plt.figure(figsize=(5, 5))\n",
    "\n",
    "# parition the figure into 4 subplots with 'gridspec'\n",
    "gs = gridspec.GridSpec(2, 2, # we want 2 rows, 2 cols\n",
    "                       figure=fig, # this gs applies to figure\n",
    "                       hspace=-0.05, wspace=-0.05, # separation between plots\n",
    "                       width_ratios=[0.5, 10], # ratio between the first\n",
    "                       # and second column\n",
    "                       height_ratios=[10, 0.5]) # ratio between the first ans second row\n",
    "\n",
    "\n",
    "# ---------------------------------------------------------------------------------------\n",
    "# Step 3 and Step 4\n",
    "\n",
    "# add plots\n",
    "ax0 = fig.add_subplot(gs[0, 0]) # this will occupy the first row-first colum\n",
    "ax1 = fig.add_subplot(gs[0, 1]) # and so on and so forth...\n",
    "ax2 = fig.add_subplot(gs[1, 0])\n",
    "ax3 = fig.add_subplot(gs[1, 1])\n",
    "\n",
    "# # empty plot\n",
    "ax2.axis('off')\n",
    "\n",
    "# # univariate distribution of y\n",
    "ax0.scatter(np.ones(len(y)), y, marker='_', color='black', alpha=1) # draw plot\n",
    "ax0.axis('off') # set axes off\n",
    "\n",
    "# x-y scatter diagram\n",
    "ax1.scatter(x, y, marker='o', s=15, color='black', alpha=1, edgecolor='white')\n",
    "ax1.axis('off') # remove axes\n",
    "\n",
    "# univariate distribution of x\n",
    "ax3.scatter(x, np.ones(len(x)), marker='|', color='black', alpha=1)\n",
    "ax3.axis('off')\n",
    "\n",
    "# ---------------------------------------------------------------------------------------\n",
    "# Step 5 and Step 6\n",
    "\n",
    "# pick-up one data point to emphasize, add reference lines and textbox\n",
    "np.random.seed(333) # fix the seed to ensure reproducibility\n",
    "i = np.random.randint(0, len(x), 1)\n",
    "x_i, y_i = x[i], y[i]\n",
    "# vertical reference line\n",
    "ax1.plot([x_i, x_i], [np.min(y), y_i], color='black',\n",
    "         ls='--',\n",
    "         lw='1')\n",
    "# horizontal reference line\n",
    "ax1.plot([np.min(x), x_i], [y_i, y_i], color='black',\n",
    "         ls='--',\n",
    "         lw='1')\n",
    "# textbox within the scatter\n",
    "textstr = (r'$(x_{i}, y_{i})$')\n",
    "# x_range = np.max(x) - np.min(x)\n",
    "# y_range = np.max(y) - np.min(y)\n",
    "ax1.text(x_i, y_i, textstr,\n",
    "         horizontalalignment='center', verticalalignment='bottom')\n",
    "# textbox within the x distro\n",
    "textstr = (r'$x_{i}$')\n",
    "ax3.text(x_i, 1 - 0.5, textstr, horizontalalignment='center')\n",
    "# textbox within the y distro\n",
    "textstr = (r'$y_{i}$')\n",
    "ax0.text(1 - 0.5, y_i, textstr, verticalalignment='center')\n",
    "\n",
    "fig.show()"
   ]
  },
  {
   "cell_type": "markdown",
   "metadata": {},
   "source": [
    "### 3. Stacked histogram\n"
   ]
  },
  {
   "cell_type": "code",
   "execution_count": 11,
   "metadata": {},
   "outputs": [
    {
     "data": {
      "image/png": "[encoded data removed]",
      "text/plain": [
       "<Figure size 432x288 with 1 Axes>"
      ]
     },
     "metadata": {
      "needs_background": "light"
     },
     "output_type": "display_data"
    }
   ],
   "source": [
    "# %%  matplotlib viz setup\n",
    "plt.style.use('seaborn-bright')\n",
    "rc('font',**{'family':'sans-serif','sans-serif':['Avant Garde']})\n",
    "rc('text', usetex=True)\n",
    "\n",
    "# %% fake data\n",
    "'''\n",
    "Simulate three random variables drawn from different distributions\n",
    "'''\n",
    "x = np.random.normal(loc=-1, scale=0.75, size=1000)\n",
    "y = np.random.normal(loc=0, scale=1, size=1000)\n",
    "z = np.random.normal(loc=1, scale=0.5, size=1000)\n",
    "\n",
    "# qualitative categories\n",
    "categories = ['x', 'y', 'z']\n",
    "\n",
    "# np.shape(x)\n",
    "\n",
    "# %% create figure\n",
    "\n",
    "# figure\n",
    "fig = plt.figure(figsize=(6, 4))\n",
    "\n",
    "# add figure\n",
    "ax = fig.add_subplot(1, 1, 1)\n",
    "\n",
    "# plot data\n",
    "ax.hist([x, y, z], bins=50, histtype=\"barstacked\", density=True,\n",
    "         label=categories, color=[\"darkorange\", \"darkorchid\", \"lime\"],\n",
    "         alpha=0.6)\n",
    "\n",
    "# axes\n",
    "ax.set_xlabel(\"Values\")\n",
    "ax.set_ylabel(\"Density\")\n",
    "\n",
    "# legend\n",
    "ax.legend(loc=\"best\")\n",
    "\n",
    "# save plot\n",
    "out_f = os.path.join(os.getcwd(), 'stacked_histogram.pdf')\n",
    "plt.savefig(out_f,\n",
    "            transparent=True,\n",
    "            bbox_inches='tight',\n",
    "            pad_inches=0)\n",
    "\n",
    "# show plot\n",
    "plt.show()\n"
   ]
  },
  {
   "cell_type": "code",
   "execution_count": 12,
   "metadata": {},
   "outputs": [
    {
     "name": "stderr",
     "output_type": "stream",
     "text": [
      "/var/folders/75/jx2xyqnd3k74bnk7xc0ps4w80000gn/T/ipykernel_11591/2971078342.py:10: UserWarning: Matplotlib is currently using module://matplotlib_inline.backend_inline, which is a non-GUI backend, so cannot show the figure.\n",
      "  fig.show()\n"
     ]
    },
    {
     "data": {
      "image/png": "[encoded data removed]",
      "text/plain": [
       "<Figure size 432x288 with 1 Axes>"
      ]
     },
     "metadata": {
      "needs_background": "light"
     },
     "output_type": "display_data"
    }
   ],
   "source": [
    "# if you want to make alpha work\n",
    "\n",
    "fig = plt.figure(figsize=(6, 4))\n",
    "ax= fig.add_subplot()\n",
    "ax.hist(x, bins=50, histtype=\"barstacked\", density=False,\n",
    "         label=categories, color=\"darkorange\",\n",
    "         alpha=0.6)\n",
    "\n",
    "ax.hist(y, bins=50, histtype=\"barstacked\", density=False,\n",
    "         label=categories, color= \"lime\",\n",
    "         alpha=0.6)\n",
    "fig.show()"
   ]
  },
  {
   "cell_type": "markdown",
   "metadata": {},
   "source": [
    "### 4. Cumulative step histograms\n"
   ]
  },
  {
   "cell_type": "code",
   "execution_count": 112,
   "metadata": {},
   "outputs": [
    {
     "name": "stderr",
     "output_type": "stream",
     "text": [
      "/var/folders/75/jx2xyqnd3k74bnk7xc0ps4w80000gn/T/ipykernel_6816/1111853624.py:32: UserWarning: color is redundantly defined by the 'color' keyword argument and the fmt string \"k--\" (-> color='k'). The keyword argument will take precedence.\n",
      "  ax.plot(bins, y, 'k--', linewidth=1.5, label='Theoretical', color='k')\n"
     ]
    },
    {
     "data": {
      "image/png": "[encoded data removed]",
      "text/plain": [
       "<Figure size 432x288 with 1 Axes>"
      ]
     },
     "metadata": {
      "needs_background": "light"
     },
     "output_type": "display_data"
    }
   ],
   "source": [
    "# cumulative step histogram\n",
    "plt.style.use('seaborn-bright')\n",
    "rc('font',**{'family':'sans-serif','sans-serif':['Avant Garde']})\n",
    "rc('text', usetex=True)\n",
    "\n",
    "# %% fake data\n",
    "np.random.seed(19680801)\n",
    "mu = 2.5\n",
    "sigma = 4\n",
    "n_bins = 50\n",
    "x = np.random.normal(mu, sigma, size=1000)\n",
    "\n",
    "# %% visualization\n",
    "\n",
    "# figure framework\n",
    "fig = plt.figure(figsize=(6, 4))\n",
    "\n",
    "# create plot\n",
    "ax = fig.add_subplot()\n",
    "\n",
    "# plot the cumulative histogram\n",
    "n, bins, patches = ax.hist(x, n_bins, density=True, histtype='stepfilled',\n",
    "                           cumulative=True, label='Empirical', color='m',\n",
    "                           alpha=0.25)\n",
    "\n",
    "# add a line showing the expected distribution.\n",
    "y = ((1 / (np.sqrt(2 * np.pi) * sigma)) *\n",
    "     np.exp(-0.5 * (1 / sigma * (bins - mu))**2))\n",
    "y = y.cumsum()\n",
    "y /= y[-1]\n",
    "\n",
    "ax.plot(bins, y, 'k--', linewidth=1.5, label='Theoretical', color='k')\n",
    "\n",
    "# overlay a reversed cumulative histogram\n",
    "ax.hist(x, bins=bins, density=True, histtype='stepfilled', cumulative=-1,\n",
    "        label='Reversed emp.', color='c', alpha=0.25)\n",
    "\n",
    "# grid line\n",
    "ax.grid(True, ls='--')\n",
    "\n",
    "# legend\n",
    "ax.legend(loc='best')\n",
    "\n",
    "# metadata\n",
    "ax.set_title('Cumulative step histograms')\n",
    "ax.set_xlabel('Company profitability ― ROE')\n",
    "ax.set_ylabel('Likelihood of occurrence')\n",
    "\n",
    "# save plot to file\n",
    "out_f = os.path.join(os.getcwd(), 'tech_sci_hist.pdf')\n",
    "plt.savefig(out_f,\n",
    "            transparent=True,\n",
    "            bbox_inches='tight',\n",
    "            pad_inches=0)\n",
    "\n",
    "\n"
   ]
  },
  {
   "cell_type": "markdown",
   "metadata": {},
   "source": [
    "### 5. Bar chart\n"
   ]
  },
  {
   "cell_type": "code",
   "execution_count": 114,
   "metadata": {},
   "outputs": [
    {
     "data": {
      "image/png": "[encoded data removed]",
      "text/plain": [
       "<Figure size 576x360 with 1 Axes>"
      ]
     },
     "metadata": {
      "needs_background": "light"
     },
     "output_type": "display_data"
    }
   ],
   "source": [
    "# fake data\n",
    "\n",
    "\n",
    "categories = ['A', 'B', 'C', 'D']\n",
    "counts = [4, 2, 6, 8]\n",
    "\n",
    "# visualization\n",
    "\n",
    "# data series\n",
    "pos = np.arange(0, len(categories), 1)\n",
    "\n",
    "# figure framework\n",
    "fig = plt.figure(figsize=(8, 5), frameon=True)\n",
    "ax = fig.add_subplot(1, 1, 1)\n",
    "\n",
    "# plot data\n",
    "ax.bar(pos, counts, color='gray', edgecolor='white')\n",
    "\n",
    "# axes properties\n",
    "ax.set_xticks(pos)\n",
    "ax.set_xticklabels(categories, rotation='vertical')\n",
    "ax.set_xlabel('Publication year')\n",
    "ax.set_ylabel('Counts of studies')\n",
    "ax.set_ylabel('Counts of articles')\n",
    "\n",
    "# hide the right and top spines\n",
    "ax.spines['right'].set_visible(False)\n",
    "ax.spines['top'].set_visible(False)\n",
    "ax.spines['bottom'].set_visible(False)\n",
    "ax.spines['left'].set_visible(False)\n",
    "ax.yaxis.set_ticks_position('left')\n",
    "ax.xaxis.set_ticks_position('bottom')\n",
    "\n",
    "# grid\n",
    "ax.grid(True, axis='y', ls=':', color='white')\n",
    "\n",
    "# save plot to file\n",
    "out_f = os.path.join(os.getcwd(), 'tufte_barchart.png')\n",
    "plt.savefig(out_f,\n",
    "            transparent=True,\n",
    "            bbox_inches='tight',\n",
    "            pad_inches=0,\n",
    "            dpi=600)\n",
    "\n",
    "# show plot\n",
    "plt.show()\n"
   ]
  },
  {
   "cell_type": "markdown",
   "metadata": {},
   "source": [
    "### 6. Produce multiple plots in bulk\n"
   ]
  },
  {
   "cell_type": "code",
   "execution_count": 83,
   "metadata": {},
   "outputs": [],
   "source": [
    "# fake data\n",
    "from random import seed\n",
    "\n",
    "np.random.seed(123)\n",
    "\n",
    "names = locals()\n",
    "for i in range(16):\n",
    "    names[f'x_{i+1}'] = np.random.normal(loc=i, scale=1, size=100)"
   ]
  },
  {
   "cell_type": "markdown",
   "metadata": {},
   "source": [
    "The most straightforward way to produce multiple plots is to plot them one by one."
   ]
  },
  {
   "cell_type": "code",
   "execution_count": 84,
   "metadata": {},
   "outputs": [
    {
     "data": {
      "image/png": "[encoded data removed]",
      "text/plain": [
       "<Figure size 1152x1152 with 16 Axes>"
      ]
     },
     "metadata": {
      "needs_background": "light"
     },
     "output_type": "display_data"
    }
   ],
   "source": [
    "# visualization\n",
    "fig  = plt.figure(figsize=(16,16))\n",
    "\n",
    "# ax1\n",
    "ax1 = fig.add_subplot(4,4,1)\n",
    "ax1.hist(names[f'x_1'], bins=5, color='red', edgecolor='white')\n",
    "ax1.set_title(f'x_1')\n",
    "ax1.spines['right'].set_visible(False)\n",
    "ax1.spines['top'].set_visible(False)\n",
    "ax1.spines['bottom'].set_visible(False)\n",
    "ax1.spines['left'].set_visible(False)\n",
    "ax1.yaxis.set_ticks_position('left')\n",
    "ax1.xaxis.set_ticks_position('bottom')\n",
    "ax1.grid(True, axis='y', ls=':', color='white')\n",
    "\n",
    "# ax2\n",
    "ax2 = fig.add_subplot(4,4,2)\n",
    "ax2.hist(names[f'x_2'], bins=5, color='red', edgecolor='white')\n",
    "ax2.set_title(f'x_2')\n",
    "ax2.spines['right'].set_visible(False)\n",
    "ax2.spines['top'].set_visible(False)\n",
    "ax2.spines['bottom'].set_visible(False)\n",
    "ax2.spines['left'].set_visible(False)\n",
    "ax2.yaxis.set_ticks_position('left')\n",
    "ax2.xaxis.set_ticks_position('bottom')\n",
    "ax2.grid(True, axis='y', ls=':', color='white')\n",
    "\n",
    "# ax3\n",
    "ax3 = fig.add_subplot(4,4,3)\n",
    "ax3.hist(names[f'x_3'], bins=5, color='red', edgecolor='white')\n",
    "ax3.set_title(f'x_3')\n",
    "ax3.spines['right'].set_visible(False)\n",
    "ax3.spines['top'].set_visible(False)\n",
    "ax3.spines['bottom'].set_visible(False)\n",
    "ax3.spines['left'].set_visible(False)\n",
    "ax3.yaxis.set_ticks_position('left')\n",
    "ax3.xaxis.set_ticks_position('bottom')\n",
    "ax3.grid(True, axis='y', ls=':', color='white')\n",
    "\n",
    "# ax4\n",
    "ax4 = fig.add_subplot(4,4,4)\n",
    "ax4.hist(names[f'x_4'], bins=5, color='red', edgecolor='white')\n",
    "ax4.set_title(f'x_4')\n",
    "ax4.spines['right'].set_visible(False)\n",
    "ax4.spines['top'].set_visible(False)\n",
    "ax4.spines['bottom'].set_visible(False)\n",
    "ax4.spines['left'].set_visible(False)\n",
    "ax4.yaxis.set_ticks_position('left')\n",
    "ax4.xaxis.set_ticks_position('bottom')\n",
    "\n",
    "# ax5\n",
    "ax5 = fig.add_subplot(4,4,5)\n",
    "ax5.hist(names[f'x_5'], bins=5, color='red', edgecolor='white')\n",
    "ax5.set_title(f'x_5')\n",
    "ax5.spines['right'].set_visible(False)\n",
    "ax5.spines['top'].set_visible(False)\n",
    "ax5.spines['bottom'].set_visible(False)\n",
    "ax5.spines['left'].set_visible(False)\n",
    "ax5.yaxis.set_ticks_position('left')\n",
    "ax5.xaxis.set_ticks_position('bottom')\n",
    "\n",
    "# ax6\n",
    "ax6 = fig.add_subplot(4,4,6)\n",
    "ax6.hist(names[f'x_6'], bins=5, color='red', edgecolor='white')\n",
    "ax6.set_title(f'x_6')\n",
    "ax6.spines['right'].set_visible(False)\n",
    "ax6.spines['top'].set_visible(False)\n",
    "ax6.spines['bottom'].set_visible(False)\n",
    "ax6.spines['left'].set_visible(False)\n",
    "ax6.yaxis.set_ticks_position('left')\n",
    "ax6.xaxis.set_ticks_position('bottom')\n",
    "\n",
    "# ax7\n",
    "ax7 = fig.add_subplot(4,4,7)\n",
    "ax7.hist(names[f'x_7'], bins=5, color='red', edgecolor='white')\n",
    "ax7.set_title(f'x_7')\n",
    "ax7.spines['right'].set_visible(False)\n",
    "ax7.spines['top'].set_visible(False)\n",
    "ax7.spines['bottom'].set_visible(False)\n",
    "ax7.spines['left'].set_visible(False)\n",
    "ax7.yaxis.set_ticks_position('left')\n",
    "ax7.xaxis.set_ticks_position('bottom')\n",
    "\n",
    "# ax8\n",
    "ax8 = fig.add_subplot(4,4,8)\n",
    "ax8.hist(names[f'x_8'], bins=5, color='red', edgecolor='white')\n",
    "ax8.set_title(f'x_8')\n",
    "ax8.spines['right'].set_visible(False)\n",
    "ax8.spines['top'].set_visible(False)\n",
    "ax8.spines['bottom'].set_visible(False)\n",
    "ax8.spines['left'].set_visible(False)\n",
    "ax8.yaxis.set_ticks_position('left')\n",
    "ax8.xaxis.set_ticks_position('bottom')\n",
    "\n",
    "# ax9\n",
    "ax9 = fig.add_subplot(4,4,9)\n",
    "ax9.hist(names[f'x_9'], bins=5, color='red', edgecolor='white') \n",
    "ax9.set_title(f'x_9')\n",
    "ax9.spines['right'].set_visible(False)\n",
    "ax9.spines['top'].set_visible(False)\n",
    "ax9.spines['bottom'].set_visible(False)\n",
    "ax9.spines['left'].set_visible(False)\n",
    "ax9.yaxis.set_ticks_position('left')\n",
    "ax9.xaxis.set_ticks_position('bottom')\n",
    "\n",
    "# ax10\n",
    "ax10 = fig.add_subplot(4,4,10)\n",
    "ax10.hist(names[f'x_10'], bins=5, color='red', edgecolor='white')\n",
    "ax10.set_title(f'x_10')\n",
    "ax10.spines['right'].set_visible(False)\n",
    "ax10.spines['top'].set_visible(False)\n",
    "ax10.spines['bottom'].set_visible(False)\n",
    "ax10.spines['left'].set_visible(False)\n",
    "ax10.yaxis.set_ticks_position('left')\n",
    "ax10.xaxis.set_ticks_position('bottom')\n",
    "\n",
    "# ax11\n",
    "ax11 = fig.add_subplot(4,4,11)\n",
    "ax11.hist(names[f'x_11'], bins=5, color='red', edgecolor='white')\n",
    "ax11.set_title(f'x_11')\n",
    "ax11.spines['right'].set_visible(False)\n",
    "ax11.spines['top'].set_visible(False)\n",
    "ax11.spines['bottom'].set_visible(False)\n",
    "ax11.spines['left'].set_visible(False)\n",
    "ax11.yaxis.set_ticks_position('left')\n",
    "ax11.xaxis.set_ticks_position('bottom')\n",
    "\n",
    "# ax12\n",
    "ax12 = fig.add_subplot(4,4,12)\n",
    "ax12.hist(names[f'x_12'], bins=5, color='red', edgecolor='white')\n",
    "ax12.set_title(f'x_12')\n",
    "ax12.spines['right'].set_visible(False)\n",
    "ax12.spines['top'].set_visible(False)\n",
    "ax12.spines['bottom'].set_visible(False)\n",
    "ax12.spines['left'].set_visible(False)\n",
    "ax12.yaxis.set_ticks_position('left')\n",
    "ax12.xaxis.set_ticks_position('bottom')\n",
    "\n",
    "# ax13\n",
    "ax13 = fig.add_subplot(4,4,13)\n",
    "ax13.hist(names[f'x_13'], bins=5, color='red', edgecolor='white')\n",
    "ax13.set_title(f'x_13')\n",
    "ax13.spines['right'].set_visible(False)\n",
    "ax13.spines['top'].set_visible(False)\n",
    "ax13.spines['bottom'].set_visible(False)\n",
    "ax13.spines['left'].set_visible(False)\n",
    "ax13.yaxis.set_ticks_position('left')\n",
    "ax13.xaxis.set_ticks_position('bottom')\n",
    "\n",
    "# ax14\n",
    "ax14 = fig.add_subplot(4,4,14)\n",
    "ax14.hist(names[f'x_14'], bins=5, color='red', edgecolor='white')\n",
    "ax14.set_title(f'x_14')\n",
    "ax14.spines['right'].set_visible(False)\n",
    "ax14.spines['top'].set_visible(False)\n",
    "ax14.spines['bottom'].set_visible(False)\n",
    "ax14.spines['left'].set_visible(False)\n",
    "ax14.yaxis.set_ticks_position('left')\n",
    "ax14.xaxis.set_ticks_position('bottom')\n",
    "\n",
    "# ax15\n",
    "ax15 = fig.add_subplot(4,4,15)\n",
    "ax15.hist(names[f'x_15'], bins=5, color='red', edgecolor='white')\n",
    "ax15.set_title(f'x_15')\n",
    "ax15.spines['right'].set_visible(False)\n",
    "ax15.spines['top'].set_visible(False)\n",
    "ax15.spines['bottom'].set_visible(False)\n",
    "ax15.spines['left'].set_visible(False)\n",
    "ax15.yaxis.set_ticks_position('left')\n",
    "ax15.xaxis.set_ticks_position('bottom')\n",
    "\n",
    "# ax16\n",
    "ax16 = fig.add_subplot(4,4,16)\n",
    "ax16.hist(names[f'x_16'], bins=5, color='red', edgecolor='white')\n",
    "ax16.set_title(f'x_16')\n",
    "ax16.spines['right'].set_visible(False)\n",
    "ax16.spines['top'].set_visible(False)\n",
    "ax16.spines['bottom'].set_visible(False)\n",
    "ax16.spines['left'].set_visible(False)\n",
    "ax16.yaxis.set_ticks_position('left')\n",
    "ax16.xaxis.set_ticks_position('bottom')\n",
    "\n",
    "\n",
    "plt.show()\n"
   ]
  },
  {
   "cell_type": "markdown",
   "metadata": {},
   "source": [
    "Alternatively, we can use `for loop` to produce the plots in bulk. In this case, if we want to change the color of the plots, we just need to change the color in the `for loop` once."
   ]
  },
  {
   "cell_type": "code",
   "execution_count": 118,
   "metadata": {},
   "outputs": [
    {
     "data": {
      "image/png": "[encoded data removed]",
      "text/plain": [
       "<Figure size 1152x1152 with 16 Axes>"
      ]
     },
     "metadata": {
      "needs_background": "light"
     },
     "output_type": "display_data"
    }
   ],
   "source": [
    "# visualization\n",
    "fig = plt.figure(figsize=(16, 16), frameon=True)\n",
    "\n",
    "\n",
    "for i in range(16):\n",
    "    names[f'ax{i+1}'] = fig.add_subplot(4,4,i+1)\n",
    "    names[f'ax{i+1}'].hist(names[f'x_{i+1}'], bins=5, color='black', edgecolor='white')\n",
    "    names[f'ax{i+1}'].set_title(f'x_{i+1}')\n",
    "    names[f'ax{i+1}'].spines['right'].set_visible(False)\n",
    "    names[f'ax{i+1}'].spines['top'].set_visible(False)\n",
    "    names[f'ax{i+1}'].spines['bottom'].set_visible(False)\n",
    "    names[f'ax{i+1}'].spines['left'].set_visible(False)\n",
    "    names[f'ax{i+1}'].yaxis.set_ticks_position('left')\n",
    "    names[f'ax{i+1}'].xaxis.set_ticks_position('bottom')\n",
    "\n",
    "fig.savefig('mutiple_plots_in_bulk.png',transparent=False)\n",
    "# show the plot\n",
    "plt.show()"
   ]
  }
 ],
 "metadata": {
  "kernelspec": {
   "display_name": "Python 3.9.12 ('base')",
   "language": "python",
   "name": "python3"
  },
  "language_info": {
   "codemirror_mode": {
    "name": "ipython",
    "version": 3
   },
   "file_extension": ".py",
   "mimetype": "text/x-python",
   "name": "python",
   "nbconvert_exporter": "python",
   "pygments_lexer": "ipython3",
   "version": "3.9.12"
  },
  "orig_nbformat": 4,
  "vscode": {
   "interpreter": {
    "hash": "adf7a2dfe92146f310bb70715fcb836024dfa469c90dc5a39450ef2153084cc2"
   }
  }
 },
 "nbformat": 4,
 "nbformat_minor": 2
}
